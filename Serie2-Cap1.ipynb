{
 "cells": [
  {
   "cell_type": "markdown",
   "metadata": {},
   "source": [
    "## Exercícios - Série II - Capítulo 1 - Exercícios extraídos do livro de Gilberto Mendes Martins"
   ]
  },
  {
   "cell_type": "markdown",
   "metadata": {},
   "source": [
    "#### $\\color{red}{\\text{Questão 1}}$  - Dado $P(A)=\\frac{1}{2}$, $P(B)=\\frac{1}{3}$ e $P(A \\cap B)=\\frac{1}{4}$, calcular :\n",
    "\n",
    "+ a) $P(A \\cup B)$\n",
    "+ b) $P(A/B)$\n",
    "+ c) $P(B/A)$\n",
    "+ d) $P[(A \\cup B)/B]$\n",
    "\n",
    "$\\color{red}{\\text{Resolução:}}$ \n",
    "\n",
    "Uma função do R poderá nos fornecer as respostas."
   ]
  },
  {
   "cell_type": "code",
   "execution_count": 1,
   "metadata": {},
   "outputs": [],
   "source": [
    "q1=function(a,b,c){\n",
    "    # a = probabilidade de A;\n",
    "    # b = probabilidade de B.\n",
    "    # c = probabilidade de A e B\n",
    "    \n",
    "    cat(\" a) P(A U B) = \" ,a+b-c)\n",
    "    cat(\"\\n b) P(A / B) =\", c/b)\n",
    "    cat(\"\\n c) P(B / A) =\", c/a)\n",
    "    cat(\"\\n d) P[(A U B)/B] =\", 1)\n",
    "}"
   ]
  },
  {
   "cell_type": "markdown",
   "metadata": {},
   "source": [
    "Desta forma, basta entrar com os dados na função criada `q1(1/2,1/3,1/4)`."
   ]
  },
  {
   "cell_type": "code",
   "execution_count": 2,
   "metadata": {},
   "outputs": [
    {
     "name": "stdout",
     "output_type": "stream",
     "text": [
      " a) P(A U B) =  0.5833333\n",
      " b) P(A / B) = 0.75\n",
      " c) P(B / A) = 0.5\n",
      " d) P[(A U B)/B] = 1"
     ]
    }
   ],
   "source": [
    "q1(1/2,1/3,1/4)"
   ]
  },
  {
   "cell_type": "markdown",
   "metadata": {},
   "source": [
    "A letra (d) pode ser demonstrada da seguinte maneira:"
   ]
  },
  {
   "cell_type": "markdown",
   "metadata": {},
   "source": [
    "$$\n",
    "P\\left[(A \\cup B)/B \\right] = \\frac{P[(A \\cup B) \\cap B]}{P(B)} = \\frac{P[(A \\cap B) \\cup (B \\cap B)]}{P(B)}  =  \\frac{P(A \\cap B) + P(B \\cap B)-P(A \\cap B \\cap B)}{P(B)} = \\frac{P(A \\cap B)+P(B)-P(A \\cap B)}{P(B)}  = \\frac{P(B)}{P(B)} = 1\n",
    "$$\n",
    "\n",
    "\n"
   ]
  },
  {
   "cell_type": "markdown",
   "metadata": {},
   "source": [
    "#### $\\color{red}{\\text{Questão 2}}$  - Faça A e B serem eventos com $P(A)=\\frac{1}{2}$, $P(B)=\\frac{1}{3}$ e $P(A \\cap B)=\\frac{1}{4}$. Encontre $P(\\overline{A}/\\overline{B})$ e $P(\\overline{B}/\\overline{A})$.\n",
    "\n",
    "$\\color{red}{\\text{Resolução}}$"
   ]
  },
  {
   "cell_type": "code",
   "execution_count": 3,
   "metadata": {},
   "outputs": [],
   "source": [
    "q2=function(a,b,ab){\n",
    "    # a é a probabilidade de P(A)\n",
    "    # b é a probabilidade de P(B)\n",
    "    # ab é a probabilidade de P(A e B)\n",
    "    cat(\" a) A probabilidade é\",(1-(a+b-ab))/(1-b))\n",
    "    cat(\"\\n b) A probabilidade é\",(1-(a+b-ab))/(1-a))\n",
    "}"
   ]
  },
  {
   "cell_type": "markdown",
   "metadata": {},
   "source": [
    "Após feita a pequena função acima, deveremos usar `q2(1/2,1/3,1/4)`. Desta forma, temos:"
   ]
  },
  {
   "cell_type": "code",
   "execution_count": 4,
   "metadata": {},
   "outputs": [
    {
     "name": "stdout",
     "output_type": "stream",
     "text": [
      " a) A probabilidade é 0.625\n",
      " b) A probabilidade é 0.8333333"
     ]
    }
   ],
   "source": [
    "q2(1/2,1/3,1/4)"
   ]
  },
  {
   "cell_type": "markdown",
   "metadata": {},
   "source": [
    "É interessante demostrar como foi elaborado o cálculo da letra (a):\n",
    "\n",
    "$$\n",
    "P(\\overline{A}/\\overline{B}) = \\frac{P(\\overline{A} \\cap \\overline{B})}{P(\\overline{B})}=\\frac{P(\\overline{A \\cup B})}{P(\\overline{B})} = \\frac{1-P(A \\cup B)}{1-P(B)} = \\frac{1-(P(A)+P(B)-P(A \\cap B))}{1-P(B)} = \\frac{1-(\\frac{1}{2}+\\frac{1}{3}-\\frac{1}{4})}{1-\\frac{1}{3}}  = \\frac{1-\\frac{7}{12}}{\\frac{2}{3}} = \\frac{\\frac{5}{12}}{\\frac{2}{3}} = \\frac{15}{24} = 0.625\n",
    "$$\n"
   ]
  },
  {
   "cell_type": "markdown",
   "metadata": {},
   "source": [
    "$\\color{red}{\\text{Questão 3}}$  - Qual a probabilidade de que \"r\" pessoas façam aniversário em dias distintos?\n",
    "\n",
    "$\\color{red}{\\text{Resolução:}}$\n",
    "\n",
    "Desta forma, temos:\n",
    "\n",
    "\\begin{equation*}\n",
    "\\frac{365 \\cdot 364\\cdot \\ldots \\cdot (365-r+1)}{365^r}\n",
    "\\end{equation*}\n",
    "\n",
    "\n",
    "\n"
   ]
  },
  {
   "cell_type": "markdown",
   "metadata": {},
   "source": [
    "$\\color{red}{\\text{Questão 4}}$ - As probabilidades de 3 jogadores marcarem um \"penalty\" são respectivamente $\\frac{2}{3}$, $\\frac{4}{5}$, $\\frac{7}{10}$.  Se cada um \"cobrar\" um única vez, qual a probabilidade de:\n",
    "\n",
    "+ a) todos acertarem;\n",
    "+ b) apenas um acertar;\n",
    "+ c) todos errarem.\n",
    "\n",
    "$\\color{red}{\\text{Resolução:}}$"
   ]
  },
  {
   "cell_type": "markdown",
   "metadata": {},
   "source": [
    "Poderemos desenvolver este exercício com uma pequena função elaborada no R. \n"
   ]
  },
  {
   "cell_type": "code",
   "execution_count": 5,
   "metadata": {},
   "outputs": [],
   "source": [
    "q4=function(a,b,c){\n",
    "    cat(\" a) A probabilidade de todos acertarem o penalty e\",a*b*c)\n",
    "    cat(\"\\n b) A probabilidade de apenas um acertar o penalty é\", (a*(1-b)*(1-c)) + ((1-a)*b*(1-c)) + ((1-a)*(1-b)*c))\n",
    "    cat(\"\\n c) A probabilidade de todos errarem o penalty é\",(1-a)*(1-b)*(1-c))\n",
    "}"
   ]
  },
  {
   "cell_type": "markdown",
   "metadata": {},
   "source": [
    "Conhecendo as probabilidades dos três jogadores como $P(A)=\\frac{2}{3}$, $P(B)=\\frac{4}{5}$ e $P(C)=\\frac{7}{10}$, poderemos utilizar a seguinte função com a entrada a seguir: `q4(2/3,4/5,7/10)`."
   ]
  },
  {
   "cell_type": "code",
   "execution_count": 6,
   "metadata": {},
   "outputs": [
    {
     "name": "stdout",
     "output_type": "stream",
     "text": [
      " a) A probabilidade de todos acertarem o penalty e 0.3733333\n",
      " b) A probabilidade de apenas um acertar o penalty é 0.1666667\n",
      " c) A probabilidade de todos errarem o penalty é 0.02"
     ]
    }
   ],
   "source": [
    "q4(2/3,4/5,7/10)"
   ]
  },
  {
   "cell_type": "markdown",
   "metadata": {},
   "source": [
    "\n",
    "\n",
    "\n",
    "$\\color{red}{\\text{Questão 5}}$ - A probabilidade de fechamaneto de cada relé do circuito apresentado abaixo é dada por \"p\". Se todos os relés funcionarem independentemente, qual será a probabilidade de que haja correne entre os terminais L e R?\n",
    "\n",
    "![](fig1.png)\n",
    "\n",
    "$\\color{red}{\\text{Resolução:}}$"
   ]
  },
  {
   "cell_type": "markdown",
   "metadata": {},
   "source": [
    "Para a corrente passar de um extremo para o outro, teremos $P(1 \\cap 2)=p \\cdot p = p^2$ e $P(3 \\cap 4)= p \\cdot p = p^2$. Desta forma, para que a corrente passe de um lado para o outro a corrente deverá passar por (1 e 2) ou (3 e 4). Se chamarmos (1 e 2) de A e (3 e 4) de B, teremos:\n",
    "\n"
   ]
  },
  {
   "cell_type": "markdown",
   "metadata": {},
   "source": [
    "$$\n",
    "P(A \\cup B) = P(A) + P(B) - P(A \\cap B) = p^2 + p^2 - p^4 =  2p^2- p^4 = p^2(2-p^2)\n",
    "$$\n",
    "\n",
    "\n",
    "\n"
   ]
  },
  {
   "cell_type": "markdown",
   "metadata": {},
   "source": [
    "$\\color{red}{\\text{Questão 6}}$ - Uma urna contém 12 bolas: 5 brancas, 4 vermelhas e 3 pretas. Outra contém 18 bolas: 5 brancas, 6 vermelhas e 7 pretas. Uma bola é retirada de cada urna. Qual é a probabilidade de que as duas bolas sejam da mesma cor?\n",
    "\n",
    "$\\color{red}{\\text{Resolução:}}$ "
   ]
  },
  {
   "cell_type": "markdown",
   "metadata": {},
   "source": [
    "A probabilidade de extrações de bola da primeira urna não irá influenciar a probabilidade de extrações de bola da segunda urna, neste caso estamos diante de eventos independentes. A literatura afirma que em eventos independentes deveremos multiplicar as probabilidades associadas aos respectivos eventos. Desta forma, temos:\n",
    "\n",
    "+ $B_1$ é o evento associado a extração de uma bola branca da urna 1. \n",
    "+ $B_2$  é o evento associado a extração de uma bola branca da urna 2. \n",
    "+ $V_1$  é o evento associado a extração de uma bola vermelha da urna 1. \n",
    "+ $V_2$  é o evento associado a extração de uma bola vermelha da urna 2. \n",
    "+ $P_1$  é o evento associado a extração de uma bola preta da urna 1. \n",
    "+ $P_2$  é o evento associado a extração de uma bola preta da urna 2.\n",
    "+ MC é o evento associado a duas bolas da Mesma Cor.\n",
    "\n",
    "Temos:\n",
    "\n",
    "\\begin{eqnarray*}\n",
    "P(MC) &=& P(B_1 \\cap B_2) + P(V_1 \\cap V_2) + P(P_1 \\cap P_2)\\\\\n",
    "P(MC) &=&  \\frac{5}{12}\\cdot \\frac{5}{18} + \\frac{4}{12} \\cdot \\frac{6}{18} + \\frac{3}{12} \\cdot \\frac{7}{18}\\\\\n",
    "P(MC) &=&  \\frac{25}{216} + \\frac{1}{9} + \\frac{7}{72}\\\\\n",
    "P(MC) &=& \\frac{35}{108}\\\\\n",
    "P(MC) &=& 0,3240\n",
    "\\end{eqnarray*}\n",
    "\n"
   ]
  },
  {
   "cell_type": "markdown",
   "metadata": {},
   "source": [
    "Uma pequena função no R poderia ser desenvolvida para obter a mesma resposta."
   ]
  },
  {
   "cell_type": "code",
   "execution_count": 7,
   "metadata": {},
   "outputs": [],
   "source": [
    "q6=function(u1,u2){\n",
    "    #u1 = Total de bolas na urna 1 \n",
    "    #u2 = Total de bolas na urna 2\n",
    "    b1=5; b2=5; \n",
    "    v1=4; v2=6; \n",
    "    p1=3; p2=7\n",
    "    mc=(b1/u1*b2/u2)+(v1/u1*v2/u2)+(p1/u1*p2/u2)\n",
    "    cat(\"A probabilidade de extraírmos duas boas da mesma cor é\",mc)\n",
    "}"
   ]
  },
  {
   "cell_type": "markdown",
   "metadata": {},
   "source": [
    "A probabilidade desejada deverá informar o total de bolas na urna 1 e o total de bolas na urna 2. Usando `q6(12,18)`.\n"
   ]
  },
  {
   "cell_type": "code",
   "execution_count": 8,
   "metadata": {},
   "outputs": [
    {
     "name": "stdout",
     "output_type": "stream",
     "text": [
      "A probabilidade de extraírmos duas boas da mesma cor é 0.3240741"
     ]
    }
   ],
   "source": [
    "q6(12,18)"
   ]
  },
  {
   "cell_type": "markdown",
   "metadata": {},
   "source": [
    "$\\color{red}{\\text{Questão 7}}$ - Numa bolsa temos 5 moedas de 1,00 real e 4 moedas de 50 centavos. Qual a probabilidade de, ao retirarmos duas moedas, obtermos R\\$ 1,50?\n",
    "\n",
    "$\\color{red}{\\text{Resolução}}$ "
   ]
  },
  {
   "cell_type": "markdown",
   "metadata": {},
   "source": [
    "Neste caso existem duas extrações. A construção de um diagrama de probabilidade irá nos ajudar a visualizar os possíveis eventos associado a este experimento.\n",
    "\n",
    "![](fig2.png)\n",
    "\n",
    "Portanto, poderemos obter o total de RS 1,50 se retirarmos uma moeda de 1 real na primeira extração e uma moeda de 50 centavos na segunda extração ou poderemos obter uma moeda de 50 centavos na primeira extração e uma moeda de 1 real na segunda extração. Se chamarmos o evento extrair uma moeda de 1 real como evento A e extrair uma moeda de 50 centavos como evento B e se chamarmos a soma ser 1,50 como o evento S, teremos:\n",
    "\n",
    "\\begin{eqnarray*}\n",
    "P(S) &=& P(B/A)\\cdot P(A) + P(A/B)\\cdot P(B)\\\\\n",
    "P(S) &=& \\frac{4}{8} \\cdot \\frac{5}{9} + \\frac{5}{8} \\cdot \\frac{4}{9}\\\\\n",
    "P(S) &=& 0,555\n",
    "\\end{eqnarray*}"
   ]
  },
  {
   "cell_type": "markdown",
   "metadata": {},
   "source": [
    "Uma pequena função no R é apresentada a seguir, no entanto usando a ideia da combinação. Visto que poderemos retirar duas moedas em nove, teremos $\\binom{9}{2}$ e dentre as moedas de 1 real poderemos retirar apenas 1 moeda, logo temos: $\\binom{5}{1}$ e dentre as moedas de 50 centavos só poderemos agir da seguinte forma: $\\binom{4}{1}$. A função no R é apresentada usando o comando `choose` para executar as combinações.\n",
    " "
   ]
  },
  {
   "cell_type": "code",
   "execution_count": 9,
   "metadata": {},
   "outputs": [],
   "source": [
    "q7=function(a,b){\n",
    "    #a é o total de moedas de 1 real\n",
    "    #b é o total de moedas de 50 centavos\n",
    "            \n",
    "    #casos possíveis\n",
    "    cp=choose((a+b),2)\n",
    "    \n",
    "    #casos favoráveis\n",
    "    cf=choose(a,1)*choose(b,1)\n",
    "    \n",
    "    cat(\"A probabilidade de escolhermos duas moedas cuja a soma seja R$ 1,50 é\",cf/cp)\n",
    "}"
   ]
  },
  {
   "cell_type": "markdown",
   "metadata": {},
   "source": [
    "Desta forma, para compilar a função deveremos usaremos `q7(5,4)` representando o total de moedas de 1 real e o total de moedas de 50 centavos."
   ]
  },
  {
   "cell_type": "code",
   "execution_count": 10,
   "metadata": {},
   "outputs": [
    {
     "name": "stdout",
     "output_type": "stream",
     "text": [
      "A probabilidade de escolhermos duas moedas cuja a soma seja R$ 1,50 é 0.5555556"
     ]
    }
   ],
   "source": [
    "q7(5,4)"
   ]
  },
  {
   "cell_type": "markdown",
   "metadata": {},
   "source": [
    "$\\color{red}{\\text{Questão 8}}$  - Uma urna contém 5 bolas pretas, três vermelhas e duas brancas. Foram extraídas 3 bolas com reposição. Qual a probabilidade de terem sido duas bolas pretas e uma vermelha?\n",
    "\n",
    "\n",
    "$\\color{red}{\\text{Resolução}}$ "
   ]
  },
  {
   "cell_type": "code",
   "execution_count": null,
   "metadata": {},
   "outputs": [],
   "source": []
  }
 ],
 "metadata": {
  "kernelspec": {
   "display_name": "R",
   "language": "R",
   "name": "ir"
  },
  "language_info": {
   "codemirror_mode": "r",
   "file_extension": ".r",
   "mimetype": "text/x-r-source",
   "name": "R",
   "pygments_lexer": "r",
   "version": "3.6.1"
  }
 },
 "nbformat": 4,
 "nbformat_minor": 4
}
