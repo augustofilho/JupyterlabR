{
 "cells": [
  {
   "cell_type": "markdown",
   "metadata": {},
   "source": [
    "## Exercícios - Série II - Capítulo 1"
   ]
  },
  {
   "cell_type": "markdown",
   "metadata": {},
   "source": [
    "$\\color{green}{\\text{Questão 1}}$  - Dado $P(A)=\\frac{1}{2}$, $P(B)=\\frac{1}{3}$ e $P(A \\cap B)=\\frac{1}{4}$, calcular:\n",
    "\n",
    "+ a) $P(A \\cup B)$\n",
    "+ b) $P(A/B)$\n",
    "+ c) $P(B/A)$\n",
    "+ d) $P[(A \\cup B)/B]$\n",
    "\n",
    "$\\color{red}{\\text{Resolução:}}$ \n",
    "\n",
    "Uma função do R poderá nos fornecer as respostas."
   ]
  },
  {
   "cell_type": "code",
   "execution_count": 1,
   "metadata": {},
   "outputs": [],
   "source": [
    "q1=function(a,b,c){\n",
    "    # a = probabilidade de A;\n",
    "    # b = probabilidade de B.\n",
    "    # c = probabilidade de A e B\n",
    "    \n",
    "    cat(\" a) P(A U B) = \" ,a+b-c)\n",
    "    cat(\"\\n b) P(A / B) =\", c/b)\n",
    "    cat(\"\\n c) P(B / A) =\", c/a)\n",
    "    cat(\"\\n d) P[(A U B)/B] =\", 1)\n",
    "}"
   ]
  },
  {
   "cell_type": "markdown",
   "metadata": {},
   "source": [
    "Desta forma, basta entrar com os dados na função criada `q1(1/2,1/3,1/4)`."
   ]
  },
  {
   "cell_type": "code",
   "execution_count": 2,
   "metadata": {},
   "outputs": [
    {
     "name": "stdout",
     "output_type": "stream",
     "text": [
      " a) P(A U B) =  0.5833333\n",
      " b) P(A / B) = 0.75\n",
      " c) P(B / A) = 0.5\n",
      " d) P[(A U B)/B] = 1"
     ]
    }
   ],
   "source": [
    "q1(1/2,1/3,1/4)"
   ]
  },
  {
   "cell_type": "markdown",
   "metadata": {},
   "source": [
    "A letra (d) pode ser demonstrada da seguinte maneira:"
   ]
  },
  {
   "cell_type": "markdown",
   "metadata": {},
   "source": [
    "\\begin{eqnarray*}\n",
    "P\\left[(A \\cup B)/B \\right] &=& \\frac{P[(A \\cup B) \\cap B]}{P(B)}\\\\\n",
    "P\\left[(A \\cup B)/B \\right] &=& \\frac{P[(A \\cap B) \\cup (B \\cap B)]}{P(B)}\\\\\n",
    "P\\left[(A \\cup B)/B \\right] &=&  \\frac{P(A \\cap B) + P(B \\cap B)-P(A \\cap B \\cap B)}{P(B)}\\\\\n",
    "P\\left[(A \\cup B)/B \\right] &=& \\frac{P(A \\cap B)+P(B)-P(A \\cap B)}{P(B)}\\\\\n",
    "P\\left[(A \\cup B)/B \\right] &=& \\frac{P(B)}{P(B)}\\\\\n",
    "P\\left[(A \\cup B)/B \\right] &=& 1\n",
    "\\end{eqnarray*}"
   ]
  },
  {
   "cell_type": "markdown",
   "metadata": {},
   "source": [
    "$\\color{green}{\\text{Questão 2}}$  - Faça A e B serem eventos com $P(A)=\\frac{1}{2}$, $P(B)=\\frac{1}{3}$ e $P(A \\cap B)=\\frac{1}{4}$. Encontre $P(\\overline{A}/\\overline{B})$ e $P(\\overline{B}/\\overline{A})$.\n",
    "\n",
    "$\\color{red}{\\text{Resolução}}$"
   ]
  },
  {
   "cell_type": "code",
   "execution_count": 3,
   "metadata": {},
   "outputs": [],
   "source": [
    "q2=function(a,b,ab){\n",
    "    # a é a probabilidade de P(A)\n",
    "    # b é a probabilidade de P(B)\n",
    "    # ab é a probabilidade de P(A e B)\n",
    "    cat(\" a) A probabilidade é\",(1-(a+b-ab))/(1-b))\n",
    "    cat(\"\\n b) A probabilidade é\",(1-(a+b-ab))/(1-a))\n",
    "}"
   ]
  },
  {
   "cell_type": "markdown",
   "metadata": {},
   "source": [
    "Após feita a pequena função acima, deveremos usar `q2(1/2,1/3,1/4)`. Desta forma, temos:"
   ]
  },
  {
   "cell_type": "code",
   "execution_count": 4,
   "metadata": {},
   "outputs": [
    {
     "name": "stdout",
     "output_type": "stream",
     "text": [
      " a) A probabilidade é 0.625\n",
      " b) A probabilidade é 0.8333333"
     ]
    }
   ],
   "source": [
    "q2(1/2,1/3,1/4)"
   ]
  },
  {
   "cell_type": "markdown",
   "metadata": {},
   "source": [
    "É interessante demostrar como foi elaborado o cálculo da letra (a):\n",
    "\\begin{eqnarray*}\n",
    "P(\\overline{A}/\\overline{B}) &=& \\frac{P(\\overline{A} \\cap \\overline{B})}{P(\\overline{B})}\\\\\n",
    "P(\\overline{A}/\\overline{B}) &=& \\frac{P(\\overline{A \\cup B})}{P(\\overline{B})}\\\\\n",
    "P(\\overline{A}/\\overline{B}) &=& \\frac{1-P(A \\cup B)}{1-P(B)}\\\\\n",
    "P(\\overline{A}/\\overline{B}) &=& \\frac{1-(P(A)+P(B)-P(A \\cap B))}{1-P(B)}\\\\\n",
    "P(\\overline{A}/\\overline{B}) &=& \\frac{1-(\\frac{1}{2}+\\frac{1}{3}-\\frac{1}{4})}{1-\\frac{1}{3}}\\\\\n",
    "P(\\overline{A}/\\overline{B}) &=& \\frac{1-\\frac{7}{12}}{\\frac{2}{3}}\\\\\n",
    "P(\\overline{A}/\\overline{B}) &=& \\frac{\\frac{5}{12}}{\\frac{2}{3}}\\\\\n",
    "P(\\overline{A}/\\overline{B}) &=& \\frac{15}{24}\\\\\n",
    "P(\\overline{A}/\\overline{B}) &=& 0,625\n",
    "\\end{eqnarray*}\n"
   ]
  },
  {
   "cell_type": "code",
   "execution_count": null,
   "metadata": {},
   "outputs": [],
   "source": []
  }
 ],
 "metadata": {
  "kernelspec": {
   "display_name": "R",
   "language": "R",
   "name": "ir"
  },
  "language_info": {
   "codemirror_mode": "r",
   "file_extension": ".r",
   "mimetype": "text/x-r-source",
   "name": "R",
   "pygments_lexer": "r",
   "version": "3.6.1"
  }
 },
 "nbformat": 4,
 "nbformat_minor": 4
}
