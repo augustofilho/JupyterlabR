{
 "cells": [
  {
   "cell_type": "markdown",
   "metadata": {},
   "source": [
    "## Exercícios - Série II - Capítulo 1 - Exercícios extraídos do livro de Gilberto Mendes Martins"
   ]
  },
  {
   "cell_type": "markdown",
   "metadata": {},
   "source": [
    "### $\\color{red}{\\text{Questão 1}}$  - Dado $P(A)=\\frac{1}{2}$, $P(B)=\\frac{1}{3}$ e $P(A \\cap B)=\\frac{1}{4}$, calcular :\n",
    "\n",
    "+ a) $P(A \\cup B)$\n",
    "+ b) $P(A/B)$\n",
    "+ c) $P(B/A)$\n",
    "+ d) $P[(A \\cup B)/B]$\n",
    "\n",
    "$\\color{red}{\\text{Resolução:}}$ \n",
    "\n",
    "Uma função do R poderá nos fornecer as respostas."
   ]
  },
  {
   "cell_type": "code",
   "execution_count": 1,
   "metadata": {},
   "outputs": [],
   "source": [
    "q1=function(a,b,c){\n",
    "    # a = probabilidade de A;\n",
    "    # b = probabilidade de B.\n",
    "    # c = probabilidade de A e B\n",
    "    \n",
    "    cat(\" a) P(A U B) = \" ,a+b-c)\n",
    "    cat(\"\\n b) P(A / B) =\", c/b)\n",
    "    cat(\"\\n c) P(B / A) =\", c/a)\n",
    "    cat(\"\\n d) P[(A U B)/B] =\", 1)\n",
    "}"
   ]
  },
  {
   "cell_type": "markdown",
   "metadata": {},
   "source": [
    "Desta forma, basta entrar com os dados na função criada `q1(1/2,1/3,1/4)`."
   ]
  },
  {
   "cell_type": "code",
   "execution_count": 2,
   "metadata": {},
   "outputs": [
    {
     "name": "stdout",
     "output_type": "stream",
     "text": [
      " a) P(A U B) =  0.5833333\n",
      " b) P(A / B) = 0.75\n",
      " c) P(B / A) = 0.5\n",
      " d) P[(A U B)/B] = 1"
     ]
    }
   ],
   "source": [
    "q1(1/2,1/3,1/4)"
   ]
  },
  {
   "cell_type": "markdown",
   "metadata": {},
   "source": [
    "A letra (d) pode ser demonstrada da seguinte maneira:"
   ]
  },
  {
   "cell_type": "markdown",
   "metadata": {},
   "source": [
    "$$\n",
    "P\\left[(A \\cup B)/B \\right] = \\frac{P[(A \\cup B) \\cap B]}{P(B)} = \\frac{P[(A \\cap B) \\cup (B \\cap B)]}{P(B)}  =  \\frac{P(A \\cap B) + P(B \\cap B)-P(A \\cap B \\cap B)}{P(B)} = \\frac{P(A \\cap B)+P(B)-P(A \\cap B)}{P(B)}  = \\frac{P(B)}{P(B)} = 1\n",
    "$$\n",
    "\n",
    "\n"
   ]
  },
  {
   "cell_type": "markdown",
   "metadata": {},
   "source": [
    "### $\\color{red}{\\text{Questão 2}}$  - Faça A e B serem eventos com $P(A)=\\frac{1}{2}$, $P(B)=\\frac{1}{3}$ e $P(A \\cap B)=\\frac{1}{4}$. Encontre $P(\\overline{A}/\\overline{B})$ e $P(\\overline{B}/\\overline{A})$.\n",
    "\n",
    "$\\color{red}{\\text{Resolução}}$"
   ]
  },
  {
   "cell_type": "code",
   "execution_count": 3,
   "metadata": {},
   "outputs": [],
   "source": [
    "q2=function(a,b,ab){\n",
    "    # a é a probabilidade de P(A)\n",
    "    # b é a probabilidade de P(B)\n",
    "    # ab é a probabilidade de P(A e B)\n",
    "    cat(\" a) A probabilidade é\",(1-(a+b-ab))/(1-b))\n",
    "    cat(\"\\n b) A probabilidade é\",(1-(a+b-ab))/(1-a))\n",
    "}"
   ]
  },
  {
   "cell_type": "markdown",
   "metadata": {},
   "source": [
    "Após feita a pequena função acima, deveremos usar `q2(1/2,1/3,1/4)`. Desta forma, temos:"
   ]
  },
  {
   "cell_type": "code",
   "execution_count": 4,
   "metadata": {},
   "outputs": [
    {
     "name": "stdout",
     "output_type": "stream",
     "text": [
      " a) A probabilidade é 0.625\n",
      " b) A probabilidade é 0.8333333"
     ]
    }
   ],
   "source": [
    "q2(1/2,1/3,1/4)"
   ]
  },
  {
   "cell_type": "markdown",
   "metadata": {},
   "source": [
    "É interessante demostrar como foi elaborado o cálculo da letra (a):\n",
    "\n",
    "$$\n",
    "P(\\overline{A}/\\overline{B}) = \\frac{P(\\overline{A} \\cap \\overline{B})}{P(\\overline{B})}=\\frac{P(\\overline{A \\cup B})}{P(\\overline{B})} = \\frac{1-P(A \\cup B)}{1-P(B)} = \\frac{1-(P(A)+P(B)-P(A \\cap B))}{1-P(B)} = \\frac{1-(\\frac{1}{2}+\\frac{1}{3}-\\frac{1}{4})}{1-\\frac{1}{3}}  = \\frac{1-\\frac{7}{12}}{\\frac{2}{3}} = \\frac{\\frac{5}{12}}{\\frac{2}{3}} = \\frac{15}{24} = 0.625\n",
    "$$\n"
   ]
  },
  {
   "cell_type": "markdown",
   "metadata": {},
   "source": [
    "### $\\color{red}{\\text{Questão 3}}$  - Qual a probabilidade de que \"r\" pessoas façam aniversário em dias distintos?\n",
    "\n",
    "$\\color{red}{\\text{Resolução:}}$\n",
    "\n",
    "Desta forma, temos:\n",
    "\n",
    "\\begin{equation*}\n",
    "\\frac{365 \\cdot 364\\cdot \\ldots \\cdot (365-r+1)}{365^r}\n",
    "\\end{equation*}\n",
    "\n",
    "\n",
    "\n"
   ]
  },
  {
   "cell_type": "markdown",
   "metadata": {},
   "source": [
    "### $\\color{red}{\\text{Questão 4}}$ - As probabilidades de 3 jogadores marcarem um \"penalty\" são respectivamente $\\frac{2}{3}$, $\\frac{4}{5}$, $\\frac{7}{10}$.  Se cada um \"cobrar\" um única vez, qual a probabilidade de:\n",
    "\n",
    "+ a) todos acertarem;\n",
    "+ b) apenas um acertar;\n",
    "+ c) todos errarem.\n",
    "\n",
    "$\\color{red}{\\text{Resolução:}}$"
   ]
  },
  {
   "cell_type": "markdown",
   "metadata": {},
   "source": [
    "Poderemos desenvolver este exercício com uma pequena função elaborada no R. \n"
   ]
  },
  {
   "cell_type": "code",
   "execution_count": 5,
   "metadata": {},
   "outputs": [],
   "source": [
    "q4=function(a,b,c){\n",
    "    cat(\" a) A probabilidade de todos acertarem o penalty e\",prod(c(a,b,c)))\n",
    "    cat(\"\\n b) A probabilidade de apenas um acertar o penalty é\", (a*(1-b)*(1-c)) + ((1-a)*b*(1-c)) + ((1-a)*(1-b)*c))\n",
    "    cat(\"\\n c) A probabilidade de todos errarem o penalty é\",(1-a)*(1-b)*(1-c))\n",
    "}"
   ]
  },
  {
   "cell_type": "markdown",
   "metadata": {},
   "source": [
    "Conhecendo as probabilidades dos três jogadores como $P(A)=\\frac{2}{3}$, $P(B)=\\frac{4}{5}$ e $P(C)=\\frac{7}{10}$, poderemos utilizar a seguinte função com a entrada a seguir: `q4(2/3,4/5,7/10)`."
   ]
  },
  {
   "cell_type": "code",
   "execution_count": 6,
   "metadata": {},
   "outputs": [
    {
     "name": "stdout",
     "output_type": "stream",
     "text": [
      " a) A probabilidade de todos acertarem o penalty e 0.3733333\n",
      " b) A probabilidade de apenas um acertar o penalty é 0.1666667\n",
      " c) A probabilidade de todos errarem o penalty é 0.02"
     ]
    }
   ],
   "source": [
    "q4(2/3,4/5,7/10)"
   ]
  },
  {
   "cell_type": "markdown",
   "metadata": {},
   "source": [
    "### $\\color{red}{\\text{Questão 5}}$ - A probabilidade de fechamaneto de cada relé do circuito apresentado abaixo é dada por \"p\". Se todos os relés funcionarem independentemente, qual será a probabilidade de que haja correne entre os terminais L e R?\n",
    "\n",
    "![](fig1.png)\n",
    "\n",
    "$\\color{red}{\\text{Resolução:}}$"
   ]
  },
  {
   "cell_type": "markdown",
   "metadata": {},
   "source": [
    "Para a corrente passar de um extremo para o outro, teremos $P(1 \\cap 2)=p \\cdot p = p^2$ e $P(3 \\cap 4)= p \\cdot p = p^2$. Desta forma, para que a corrente passe de um lado para o outro a corrente deverá passar por (1 e 2) ou (3 e 4). Se chamarmos (1 e 2) de A e (3 e 4) de B, teremos:\n",
    "\n"
   ]
  },
  {
   "cell_type": "markdown",
   "metadata": {},
   "source": [
    "$$\n",
    "P(A \\cup B) = P(A) + P(B) - P(A \\cap B) = p^2 + p^2 - p^4 =  2p^2- p^4 = p^2(2-p^2)\n",
    "$$\n",
    "\n",
    "\n",
    "\n"
   ]
  },
  {
   "cell_type": "markdown",
   "metadata": {},
   "source": [
    "### $\\color{red}{\\text{Questão 6}}$ - Uma urna contém 12 bolas: 5 brancas, 4 vermelhas e 3 pretas. Outra contém 18 bolas: 5 brancas, 6 vermelhas e 7 pretas. Uma bola é retirada de cada urna. Qual é a probabilidade de que as duas bolas sejam da mesma cor?\n",
    "\n",
    "$\\color{red}{\\text{Resolução:}}$ "
   ]
  },
  {
   "cell_type": "markdown",
   "metadata": {},
   "source": [
    "A probabilidade de extrações de bola da primeira urna não irá influenciar a probabilidade de extrações de bola da segunda urna, neste caso estamos diante de eventos independentes. A literatura afirma que em eventos independentes deveremos multiplicar as probabilidades associadas aos respectivos eventos. Desta forma, temos:\n",
    "\n",
    "+ $B_1$ é o evento associado a extração de uma bola branca da urna 1. \n",
    "+ $B_2$  é o evento associado a extração de uma bola branca da urna 2. \n",
    "+ $V_1$  é o evento associado a extração de uma bola vermelha da urna 1. \n",
    "+ $V_2$  é o evento associado a extração de uma bola vermelha da urna 2. \n",
    "+ $P_1$  é o evento associado a extração de uma bola preta da urna 1. \n",
    "+ $P_2$  é o evento associado a extração de uma bola preta da urna 2.\n",
    "+ MC é o evento associado a duas bolas da Mesma Cor.\n",
    "\n",
    "Temos:\n",
    "\n",
    "\\begin{eqnarray*}\n",
    "P(MC) &=& P(B_1 \\cap B_2) + P(V_1 \\cap V_2) + P(P_1 \\cap P_2)\\\\\n",
    "P(MC) &=&  \\frac{5}{12}\\cdot \\frac{5}{18} + \\frac{4}{12} \\cdot \\frac{6}{18} + \\frac{3}{12} \\cdot \\frac{7}{18}\\\\\n",
    "P(MC) &=&  \\frac{25}{216} + \\frac{1}{9} + \\frac{7}{72}\\\\\n",
    "P(MC) &=& \\frac{35}{108}\\\\\n",
    "P(MC) &=& 0,3240\n",
    "\\end{eqnarray*}\n",
    "\n"
   ]
  },
  {
   "cell_type": "markdown",
   "metadata": {},
   "source": [
    "Uma pequena função no R poderia ser desenvolvida para obter a mesma resposta."
   ]
  },
  {
   "cell_type": "code",
   "execution_count": 7,
   "metadata": {},
   "outputs": [],
   "source": [
    "q6=function(u1,u2){\n",
    "    #u1 = Total de bolas na urna 1 \n",
    "    #u2 = Total de bolas na urna 2\n",
    "    b1=5; b2=5; \n",
    "    v1=4; v2=6; \n",
    "    p1=3; p2=7\n",
    "    mc=(b1/u1*b2/u2)+(v1/u1*v2/u2)+(p1/u1*p2/u2)\n",
    "    cat(\"A probabilidade de extraírmos duas boas da mesma cor é\",mc)\n",
    "}"
   ]
  },
  {
   "cell_type": "markdown",
   "metadata": {},
   "source": [
    "A probabilidade desejada deverá informar o total de bolas na urna 1 e o total de bolas na urna 2. Usando `q6(12,18)`.\n"
   ]
  },
  {
   "cell_type": "code",
   "execution_count": 8,
   "metadata": {},
   "outputs": [
    {
     "name": "stdout",
     "output_type": "stream",
     "text": [
      "A probabilidade de extraírmos duas boas da mesma cor é 0.3240741"
     ]
    }
   ],
   "source": [
    "q6(12,18)"
   ]
  },
  {
   "cell_type": "markdown",
   "metadata": {},
   "source": [
    "### $\\color{red}{\\text{Questão 7}}$ - Numa bolsa temos 5 moedas de 1,00 real e 4 moedas de 50 centavos. Qual a probabilidade de, ao retirarmos duas moedas, obtermos R\\$ 1,50?\n",
    "\n",
    "$\\color{red}{\\text{Resolução}}$ "
   ]
  },
  {
   "cell_type": "markdown",
   "metadata": {},
   "source": [
    "Neste caso existem duas extrações. A construção de um diagrama de probabilidade irá nos ajudar a visualizar os possíveis eventos associado a este experimento.\n",
    "\n",
    "![](fig2.png)\n",
    "\n",
    "Portanto, poderemos obter o total de RS 1,50 se retirarmos uma moeda de 1 real na primeira extração e uma moeda de 50 centavos na segunda extração ou poderemos obter uma moeda de 50 centavos na primeira extração e uma moeda de 1 real na segunda extração. Se chamarmos o evento extrair uma moeda de 1 real como evento A e extrair uma moeda de 50 centavos como evento B e se chamarmos a soma ser 1,50 como o evento S, teremos:\n",
    "\n",
    "\\begin{eqnarray*}\n",
    "P(S) &=& P(B/A)\\cdot P(A) + P(A/B)\\cdot P(B)\\\\\n",
    "P(S) &=& \\frac{4}{8} \\cdot \\frac{5}{9} + \\frac{5}{8} \\cdot \\frac{4}{9}\\\\\n",
    "P(S) &=& 0,555\n",
    "\\end{eqnarray*}"
   ]
  },
  {
   "cell_type": "markdown",
   "metadata": {},
   "source": [
    "Uma pequena função no R é apresentada a seguir, no entanto usando a ideia da combinação. Visto que poderemos retirar duas moedas em nove, teremos $\\binom{9}{2}$ e dentre as moedas de 1 real poderemos retirar apenas 1 moeda, logo temos: $\\binom{5}{1}$ e dentre as moedas de 50 centavos só poderemos agir da seguinte forma: $\\binom{4}{1}$. A função no R é apresentada usando o comando `choose` para executar as combinações.\n",
    " "
   ]
  },
  {
   "cell_type": "code",
   "execution_count": 9,
   "metadata": {},
   "outputs": [],
   "source": [
    "q7=function(a,b){\n",
    "    #a é o total de moedas de 1 real\n",
    "    #b é o total de moedas de 50 centavos\n",
    "            \n",
    "    #casos possíveis\n",
    "    cp=choose((a+b),2)\n",
    "    \n",
    "    #casos favoráveis\n",
    "    cf=choose(a,1)*choose(b,1)\n",
    "    \n",
    "    cat(\"A probabilidade de escolhermos duas moedas cuja a soma seja R$ 1,50 é\",cf/cp)\n",
    "}"
   ]
  },
  {
   "cell_type": "markdown",
   "metadata": {},
   "source": [
    "Desta forma, para compilar a função deveremos usaremos `q7(5,4)` representando o total de moedas de 1 real e o total de moedas de 50 centavos."
   ]
  },
  {
   "cell_type": "code",
   "execution_count": 10,
   "metadata": {},
   "outputs": [
    {
     "name": "stdout",
     "output_type": "stream",
     "text": [
      "A probabilidade de escolhermos duas moedas cuja a soma seja R$ 1,50 é 0.5555556"
     ]
    }
   ],
   "source": [
    "q7(5,4)"
   ]
  },
  {
   "cell_type": "markdown",
   "metadata": {},
   "source": [
    "### $\\color{red}{\\text{Questão 8}}$  - Uma urna contém 5 bolas pretas, três vermelhas e duas brancas. Foram extraídas 3 bolas com reposição. Qual a probabilidade de terem sido duas bolas pretas e uma vermelha?\n",
    "\n",
    "\n",
    "$\\color{red}{\\text{Resolução}}$ "
   ]
  },
  {
   "cell_type": "markdown",
   "metadata": {},
   "source": [
    "Para extrair 2 bolas pretas e uma vermelha, temos os seguintes eventos associados: $(PPV),(PVP),(VPP)$ e sabendo que são eventos sem reposição, temos: $(\\frac{5}{10}\\cdot \\frac{5}{10}\\cdot \\frac{3}{10})$. Este evento repete-se três vezes, portanto: $3\\cdot (\\frac{5}{10}\\cdot \\frac{5}{10}\\cdot \\frac{3}{10})=\\frac{9}{40}=0,225$. Uma função no R será arpesentada a seguir:"
   ]
  },
  {
   "cell_type": "code",
   "execution_count": 11,
   "metadata": {},
   "outputs": [],
   "source": [
    "q8=function(p1,p2,v){\n",
    "    #p1 é a probabilidade de escolher uma bola preta \n",
    "    #p2 é a probabilidade de escolher uma bola preta\n",
    "    #v é a probabilidade de escolher uma bola vermelha\n",
    "    cat(\"A probabilidade desejada é\",3*(p1*p2*v))\n",
    "}"
   ]
  },
  {
   "cell_type": "code",
   "execution_count": 12,
   "metadata": {},
   "outputs": [
    {
     "name": "stdout",
     "output_type": "stream",
     "text": [
      "A probabilidade desejada é 0.225"
     ]
    }
   ],
   "source": [
    "q8(5/10,5/10,3/10)"
   ]
  },
  {
   "cell_type": "markdown",
   "metadata": {},
   "source": [
    "### $\\color{red}{\\text{Questão 9}}$  - A urna n.1 contém: 1 bola vermelha e 2 brancas. A urna n.2 contém: 2 bolas vermelhas e 1 brancas. Tiramos aleatoriamente uma bola da urna n.1, colocamos na urna n.2 e misturamos. Em seguida tiramos aleatoriamente uma bola da urna n.2. Qual é a probabilidade de tirarmos uma bola branca da urna n.2?\n",
    "\n",
    "$\\color{red}{\\text{Resolução}}$:"
   ]
  },
  {
   "cell_type": "markdown",
   "metadata": {},
   "source": [
    "Na urna 1, temos 1 bola vermelha e 2 brancas e na urna 2 temos 2 vermelhas e uma bola branca. A probabilidade de escolhermos uma bola vermalha na urna 1 é $\\frac{1}{3}$ e de escolhermos uma bola branca na urna 1 é $\\frac{2}{3}$. Se sortearmos uma bola vermelha na urna 1 e colocarmos na urna 2 a nova probabilidade de escolher uma bola vermelha na urna 2 é $\\frac{3}{4}$ e de se escolher uma bola branca na urna 2 é $\\frac{1}{4}$, visto que escolhemos uma bola vermelha na urna 1 e a recolocamos na urna 2, aumentando com isso o número de bolas vermelhas na urna 2. Se for selecionado uma bola branca na urna 1 e for recolocada na urna 2, teremos $\\frac{2}{4}$ como a probabilidade de escolhermos uma bola branca na urna2 e $\\frac{2}{4}$ de escolhermos uma bola vermelha na urna 2. Portanto, com as novas probabilidades, temos:\n",
    "\n",
    "$P(B_2/B_1)\\cdot P(B_1) + P(B_2/V_1)\\cdot P(V_1)=\\frac{2}{4}\\cdot \\frac{2}{3}+\\frac{1}{4}\\cdot \\frac{1}{3}=\\frac{5}{12}=0.4166667$. Uma pequena função no R é apresentada a seguir, bastando informar a quantidade de bolas brancas e vermelhas na urna 1.\n"
   ]
  },
  {
   "cell_type": "code",
   "execution_count": 13,
   "metadata": {},
   "outputs": [],
   "source": [
    "q9=function(v,b){\n",
    "    #v total de bolas vermelhas na urna1\n",
    "    #b total de bolas brancas na urna1\n",
    "    vf=v/(v+b)*1/(1+v+b)\n",
    "    bf=b/(v+b)*2/(1+v+b)\n",
    "    cat(\"A probabilidade desejada é\",vf+bf)\n",
    "}"
   ]
  },
  {
   "cell_type": "code",
   "execution_count": 14,
   "metadata": {},
   "outputs": [
    {
     "name": "stdout",
     "output_type": "stream",
     "text": [
      "A probabilidade desejada é 0.4166667"
     ]
    }
   ],
   "source": [
    "q9(1,2)"
   ]
  },
  {
   "cell_type": "markdown",
   "metadata": {},
   "source": [
    "### $\\color{red}{\\text{Questão 10}}$  - A urna 1 contém \"x\" bolas brancas, e \"y\" bolas vermelhas. A urna 2 contém \"z\" bolas brancas e \"v\" vermelhas. Uma bola é escolhida ao acaso da urna 1 e posta na urna 2. A seguir uma bola é escolhida ao acaso da urna 2. Qual será a probabilidade de que esta bola seja branca?\n",
    "\n",
    "$\\color{red}{\\text{Resolução}}$: \n",
    "\n",
    "O seguinte diagrama de probabilidade nos dará uma noção dos eventos associados:\n",
    "\n",
    "![](fig3.png)\n",
    "\n",
    "Portanto, a probabilidade de selecionarmos uma bola branca na urna dois é dada por:\n",
    "$P(B_2)=P(B_2/V_1)\\cdot P(V_1)+ P(B_2/B_1)\\cdot P(B_1)= \\frac{z}{1+x+y}\\cdot \\frac{y}{x+y}+\\frac{z+1}{z+v+1}\\cdot \\frac{x}{x+y}$"
   ]
  },
  {
   "cell_type": "markdown",
   "metadata": {},
   "source": [
    "### $\\color{red}{\\text{Questão 11}}$  - Uma urna contém 10 bolas pretas e 5 bolas vermelhas. São feitas retiradas aleatórias. Cada bola retirada é reposta, juntamente com 5 bolas da mesma cor. Qual é a probabilidade de saírem nessa ordem: 1 preta, 1 preta, 1 vermelha, 1 vermelha? E nessa ordem: 1 preta, 1 vermelha, 1 preta, 1 vermelha? Dado que a primeira bola é preta, qual é a probabilidade de que a segunda seja preta?\n",
    "\n",
    "$\\color{red}{\\text{Resolução:}}$  \n",
    "\n",
    "Para termos a seguinte ordem: $P(P,P,V,V)=\\frac{10}{15}\\cdot \\frac{(10+5)}{(15+5)}\\cdot \\frac{5}{(20+5)}\\cdot \\frac{(5+5)}{(25+5)}=\\frac{1}{30}=0,0333$.\n",
    "\n",
    "E nesta ordem: $P(P,V,P,V)=\\frac{10}{15} \\cdot \\frac{5}{(20)} \\cdot \\frac{15}{(25)} \\cdot \\frac{10}{(30)} = \\frac{1}{30}=0,0333$.\n",
    "\n",
    "E sabendo que a primeira bola é preta, qual é a probabilidade da segunda bola também ser preta? Já é sabido que a primeira bola é preta, então para a segunda bola teremos (5+10)/(20). Portanto temos:\n",
    "$P(P_2/P_1)=\\frac{(P_1 \\cap P_2)}{P_1}=\\frac{P_1 \\cdot P_2}{P_1}=P(P_2)=\\frac{15}{20}=0,75$. \n",
    "\n",
    "Uma função no R será desenvolvida a seguir, bastante acrescentar o total de bolas pretas e vermelhas fornecida pelo enunciado.\n",
    "\n"
   ]
  },
  {
   "cell_type": "code",
   "execution_count": 15,
   "metadata": {},
   "outputs": [],
   "source": [
    "q11=function(v,p){\n",
    "    # v é o total de bolas vermelhas\n",
    "    # p é o total de bolas pretas\n",
    "    prob1=p/(p+v)*v/(p+v+5)*(p+5)/(p+v+10)*(v+5)/(p+v+15)\n",
    "    prob2=p/(p+v)*v/(p+v+5)*(p+5)/(p+v+10)*(v+5)/(p+v+15)\n",
    "    prob3=1*(p+5)/(p+v+5)\n",
    "    cat(\"A probabilidade de escolhermos P(PVPV) é\",prob1)\n",
    "    cat(\"\\nA probabilidade de escolhermos P(PVPV) é\",prob2)\n",
    "    cat(\"\\nA probabilidade de escolhermos P(P2/P1) é\",prob3)\n",
    "}"
   ]
  },
  {
   "cell_type": "code",
   "execution_count": 16,
   "metadata": {},
   "outputs": [
    {
     "name": "stdout",
     "output_type": "stream",
     "text": [
      "A probabilidade de escolhermos P(PVPV) é 0.03333333\n",
      "A probabilidade de escolhermos P(PVPV) é 0.03333333\n",
      "A probabilidade de escolhermos P(P2/P1) é 0.75"
     ]
    }
   ],
   "source": [
    "q11(5,10)"
   ]
  },
  {
   "cell_type": "markdown",
   "metadata": {},
   "source": [
    "### $\\color{red}{\\text{Questão 12}}$  - Uma caixa A contém 8 peças, das quais 3 são defeituosas e uma caixa B contém 5 peças das quais 2 são defeituosas. Uma peça é retirada aleatoriamente de cada caixa:\n",
    "\n",
    "+ I) qual a probabilidade p de que ambas as peças não sejam defeituosas?\n",
    "+ II) qual é a probabilidade $p$ de que uma peça seja defeituosa e a outra não?\n",
    "+ III) Se uma peça é defeituosa e a outra não, qual é aprobabilidade $p$ de que a peça defeituosa venha da caixa A?\n",
    "\n",
    "$\\color{red}{\\text{Resolução}}$:\n",
    "\n",
    "Para a letra (a), determinaremos abaixo a probabilidade de que ambas as peças não sejam defeituosas:\n",
    "$P(P_1 \\cap P_2 )=\\frac{5}{8} \\cdot \\frac{3}{5}=\\frac{3}{8}$.\n",
    "\n",
    "Para a letra (b), determinaremos a probabilidade de que seja escolhida uma peça defeituosa e outra não defeituosa:\n",
    "$P(D_1 \\cap P_2) + P(P_1 \\cap D_2)=\\frac{3}{8}\\cdot \\frac{3}{5}+\\frac{5}{8}\\cdot \\frac{2}{5}=\\frac{19}{40}=0,475$.\n",
    "\n",
    "Para a letra (c), temos:\n",
    "$P(D_1,P_2)/P(\\text{uma defeituosa})=(3/8 \\cdot 3/5)/(19/40)=9/19$. Um código para realizar esta questão é apresentado no R a seguir. Bastando entrar com a quantidade de peças defituosas e perfeitas de cada urna. Por exemplo `q12(3,5,2,3)`."
   ]
  },
  {
   "cell_type": "code",
   "execution_count": 17,
   "metadata": {},
   "outputs": [],
   "source": [
    "q12=function(d1,p1,d2,p2){\n",
    "    # d1 é o número de peças defeituosas na urna 1\n",
    "    # p1 é o número de peças perfeitas na urna 1\n",
    "    # d2 é o número de peças defeituosas na urna 2\n",
    "    # p2 é o número de peças perfeitas na urna 2\n",
    "    cat(\"A probabilidade de que ambas as peças não sejam defeituosas é\",p1/(p1+d1)*p2/(p2+d2))\n",
    "    cat(\"\\nA probabilidade de que seja escolhida uma peça defeituosa e a outra não é\",(d1/(d1+p1)*p2/(p2+d2))+\n",
    "    (p1/(p1+d1)*d2/(p2+d2)))\n",
    "    cat(\"\\nSe uma peça é defeituosa e a outra não, a probabilidade  de que a peça defeituosa venha da caixa A é\",\n",
    "    (d1/(d1+p1)*p2/(p2+d2))/(19/40))\n",
    "}"
   ]
  },
  {
   "cell_type": "code",
   "execution_count": 18,
   "metadata": {},
   "outputs": [
    {
     "name": "stdout",
     "output_type": "stream",
     "text": [
      "A probabilidade de que ambas as peças não sejam defeituosas é 0.375\n",
      "A probabilidade de que seja escolhida uma peça defeituosa e a outra não é 0.475\n",
      "Se uma peça é defeituosa e a outra não, a probabilidade  de que a peça defeituosa venha da caixa A é 0.4736842"
     ]
    }
   ],
   "source": [
    "q12(3,5,2,3)"
   ]
  },
  {
   "cell_type": "markdown",
   "metadata": {},
   "source": [
    "### $\\color{red}{\\text{Questão 13}}$  - A probabilidade de uma mulher estar viva daqui a 30 anos é $\\frac{3}{4}$ e de seu marido $\\frac{3}{5}$. Calcular a probabilidad de:\n",
    "\n",
    "+ a) Apenas o homem estar vivo;\n",
    "+ b) Somente a mulher estar viva;\n",
    "+ c) Pelo menos um estar vivo;\n",
    "+ d) Ambos estarem vivos.\n",
    "\n",
    "### $\\color{red}{\\text{Resolução}}$ \n",
    "\n",
    "Chamando M o evento em que a mulher esteja viva de $P(M)=\\frac{3}{4}$ e o evento H a probabilidade do homem estar vivo de $P(H)=\\frac{3}{5}$, poderemos determinar a probabilidade de apenas o homem estar vivo como:\n",
    "\n",
    "$P(H \\cap \\overline{M})=P(H)\\cdot P(\\overline{M})=P(H)\\cdot (1-P(M))=\\frac{3}{5}\\cdot (1-\\frac{3}{4})=\\frac{3}{20}$.\n",
    "\n",
    "Para determinar a probabilidade de somente a mulher estar viva, temos:\n",
    "$P(M \\cap \\overline{H})=P(M)\\cdot (1-P(H))=\\frac{3}{4}\\cdot (1-\\frac{3}{5})=\\frac{3}{10}$.\n",
    "\n",
    "Para determinar a probabilidade de pelo menos um estar vivo deveremos determinar a probabilidade de Nenhum estar vivo e subtrair de 1.\n",
    "$1-(P(\\overline{M} \\cap \\overline{H}))=1-\\frac{1}{4}\\cdot \\frac{2}{5}=1-\\frac{1}{10}=\\frac{9}{10}$.\n",
    "\n",
    "\n",
    "Para determinar a probabilidade de ambos estarem vivos é dado por:\n",
    "$P(H \\cap M)=\\frac{3}{4}\\cdot \\frac{3}{5}=\\frac{9}{20}$. \n",
    "\n",
    "A seguir faremos uma rotina no R para encontrar as respostas."
   ]
  },
  {
   "cell_type": "code",
   "execution_count": 19,
   "metadata": {},
   "outputs": [],
   "source": [
    "#Informe as probabilidades da mulher e do homem estarem vivos.\n",
    "x=c(3/4,3/5) \n",
    "\n",
    "q13=function(x){\n",
    "    cat(\"a) A probabilidade de apenas o homem estar vivo é\",(1-x[1])*x[2])\n",
    "    cat(\"\\nb) A probabilidade de somente a mulher estar viva é\",x[1]*(1-x[2]))\n",
    "    cat(\"\\nc) A probabilidade de pelo menos um estar vivo é\",1-(1-x[1])*(1-x[2]))\n",
    "    cat(\"\\nd) A probabilidade de ambos estarem vivos é\",prod(x))\n",
    "}"
   ]
  },
  {
   "cell_type": "code",
   "execution_count": 20,
   "metadata": {},
   "outputs": [
    {
     "name": "stdout",
     "output_type": "stream",
     "text": [
      "a) A probabilidade de apenas o homem estar vivo é 0.15\n",
      "b) A probabilidade de somente a mulher estar viva é 0.3\n",
      "c) A probabilidade de pelo menos um estar vivo é 0.9\n",
      "d) A probabilidade de ambos estarem vivos é 0.45"
     ]
    }
   ],
   "source": [
    "q13(x)"
   ]
  },
  {
   "cell_type": "markdown",
   "metadata": {},
   "source": [
    "### $\\color{red}{\\text{Questão 14}}$  - Uma urna A contém 4 bolas: 2 brancas, 2 pretas; uma urna B contém 5 bolas: 3 brancas, 2 pretas. Uma bola é transferida de A para B. Uma bola é retirada de B e verificada ser branca. Qual é a probabilidade de que a bola transferida tenha sido branca?\n",
    "\n",
    "$\\color{red}{\\text{Resolução}}$:\n",
    "\n",
    "Temos que determinar a probabilidade da bola transferida de A para B tenha sido branca, temos:\n",
    "\n",
    "$$P9(B_1/B_2)=\\frac{P(B_1 \\cap B_2)}{P(B_2)}=\\frac{(\\frac{2}{4}\\cdot \\frac{4}{6})}{(\\frac{2}{4}\\cdot \\frac{4}{6})+(\\frac{2}{4}\\cdot \\frac{3}{6})}=\\frac{4}{7}$$. \n",
    "\n",
    "A seguir será apresentado uma função para desenvolver o exercício em R, bastando entrar com o vetor quantidade de bolas brancas na urna 1 e urna 2 e quantidade de bolas pretas na urna 1 e 2.\n"
   ]
  },
  {
   "cell_type": "code",
   "execution_count": 21,
   "metadata": {},
   "outputs": [],
   "source": [
    "u1=c(2,2)  # 2 bolas brancas e 2 bolas pretas\n",
    "u2=c(3,2)  # 3 bolas brancas e 2 bolas pretas\n",
    "x=c(u1,u2)\n",
    "\n",
    "q14=function(x){\n",
    "    cf=u1[1]/sum(u1)*(1+u2[1])/(1+sum(u2))\n",
    "    cp=cf+(u1[2]/sum(u1)*u2[1]/(1+sum(u2)))\n",
    "    cat(\"A probabilidade desejada é\",cf/cp)\n",
    "}"
   ]
  },
  {
   "cell_type": "code",
   "execution_count": 22,
   "metadata": {},
   "outputs": [
    {
     "name": "stdout",
     "output_type": "stream",
     "text": [
      "A probabilidade desejada é 0.5714286"
     ]
    }
   ],
   "source": [
    "q14(x)"
   ]
  },
  {
   "cell_type": "markdown",
   "metadata": {},
   "source": [
    "### $\\color{red}{\\text{Questão 15}}$  - São dadas duas urnas A e B. A urna A contém uma bola preta e uma vermelha. A urna B contém duas bolas pretas e três vermelhas. Uma bola é escolhida ao acaso na urna A e colocada na urna B. Uma bola é então extraída, ao acaso, da urna B. Pergunta-se:\n",
    "\n",
    "+ a) Qual a probabilidade de que ambas as bolas retiradas sejam da mesma cor?\n",
    "+ b) Qual a probabilidade de que a primeira bola seja vermelha, sabendo-se que a segunda foi preta?\n",
    "\n",
    "### $\\color{red}{\\text{Resolução}}$:\n",
    "\n",
    "Sabendo que a urna A contém 1 bola preta e uma bola vermelha e a urna B contém 2 bolas pretas e três bolas vermelhas, poderemos determinar a probabilidade de ambas as bolas extraídas serem da mesma cor da seguinte forma:\n",
    "\n",
    "$P(P_2/P_1)\\cdot P(P_1)+P(V_2/V_1)\\cdot P(V_1)=\\frac{3}{6}\\cdot \\frac{1}{2}+\\frac{4}{6}\\cdot \\frac{1}{2}=\\frac{1}{4}+\\frac{1}{3}=\\frac{7}{12}$.\n",
    "\n",
    "Da mesma forma, a probabilidade da primeira bola ser vermelha sabendo que a segunda bola é preta é dado por:\n",
    "\n",
    "$$P(V_1/P_2)=\\frac{P(V_1 \\cap P_2)}{P(P_2)}=\\frac{\\frac{1}{2}\\cdot \\frac{2}{6}}{\\frac{1}{2}\\cdot \\frac{3}{6}+\\frac{2}{6}\\cdot \\frac{1}{2}}=\\frac{2}{5}$$.\n",
    "\n",
    "Uma pequena função no R é apresentada a seguir, bastando entrar com o vetor de bolas nas urnas A e B, dado por `x=c(1,1,2,3)` representando as bolas pretas e vermelhas na urna A e as bolas pretas e vermelhas na urna B respectivamente."
   ]
  },
  {
   "cell_type": "code",
   "execution_count": 23,
   "metadata": {},
   "outputs": [],
   "source": [
    "q15=function(x){\n",
    "    \n",
    "    A=c(x[1],x[2]) #Urna A\n",
    "    B=c(x[3],x[4]) #Urna B\n",
    "    \n",
    "    p=A[1]/sum(A)*(1+B[1])/(1+sum(B))+(A[2]/sum(A))*(1+B[2])/(1+sum(B))\n",
    "    p2=(A[2]/sum(A)*(B[1])/(1+sum(B)))/((A[2]/sum(A)*(B[1])/(1+sum(B)))+(A[1]/sum(A))*(1+B[1])/(1+sum(B)))\n",
    "    \n",
    "    cat(\"A probabilidade de extrairmos duas bolas da mesma cor é\",p)\n",
    "    cat(\"\\nA probabilidade da primeira bola ser vermelha sabendo que a segunda bola é preta é\",p2)\n",
    "    \n",
    "}"
   ]
  },
  {
   "cell_type": "code",
   "execution_count": 24,
   "metadata": {},
   "outputs": [
    {
     "name": "stdout",
     "output_type": "stream",
     "text": [
      "A probabilidade de extrairmos duas bolas da mesma cor é 0.5833333\n",
      "A probabilidade da primeira bola ser vermelha sabendo que a segunda bola é preta é 0.4"
     ]
    }
   ],
   "source": [
    "#vetor de bolas (1 bola preta, 1 bola vermelha, 2 bolas pretas e 3 bolas vermelhas)\n",
    "x=c(1,1,2,3) \n",
    "q15(x)"
   ]
  },
  {
   "cell_type": "markdown",
   "metadata": {},
   "source": [
    "### $\\color{red}{\\text{Questão 16}}$  - Uma urna contém 5 bolas vermelhas e 3 brancas. Uma bola é selecionada aleatoriamente de uma urna e abandonada, e duas de outra cor são colocadas na urna. Uma segunda bola é então selecionada da urna. Encontre a probabilidade de que:\n",
    "\n",
    "+ I) a segunda bola seja vermelha e\n",
    "+ II) Ambas as bolas são da mesma cor.\n",
    "\n",
    "### $\\color{red}{\\text{Resolução:}}$ \n",
    "\n",
    "\n",
    "Devemos levar em consideração que uma bola é selecionada e retirada da urna e duas outras bolas de cores diferentes são colocadas na urna. A árvore de probabilidade nos dará uma ideia do comportamento dos dados:\n",
    "\n",
    "![](fig4.png)\n",
    "\n",
    "Para determinar a probabilidade da segunda bola ser vermelha, temos:\n",
    "$P(V_2/V_1)\\cdot P(V_1)+P(V_2/B_1)\\cdot P(B_1)=\\frac{4}{9}\\cdot \\frac{5}{8}+\\frac{3}{8}\\cdot \\frac{7}{9}=\\frac{41}{72}$.\n",
    "\n",
    "Para determinar  a probabilidade de ambas as bolas serem da mesma cor, temos:\n",
    "$P(V_2/V_1)\\cdot P(V_1)+P(B_2/B_1)\\cdot P(B_1)=\\frac{5}{8}\\cdot \\frac{4}{9}+\\frac{3}{8}\\cdot \\frac{2}{9}=\\frac{13}{36}$.\n",
    "\n",
    "Uma pequena função é apresentado a seguir, de modo que deve-se entrar apenas com a quantidade de bolas vermelhas e brancas: `x=c(5,3)`."
   ]
  },
  {
   "cell_type": "code",
   "execution_count": 25,
   "metadata": {},
   "outputs": [],
   "source": [
    "q16=function(x){\n",
    "    \n",
    "    p=x[1]/sum(x)*(x[1]-1)/(1+sum(x)) + (x[2]/sum(x))*(2+x[1])/(1+sum(x))\n",
    "    p2=x[1]/sum(x) * (x[1]-1)/(1+sum(x)) + (x[2])/sum(x)* ((x[2]-1)/(1+sum(x)))\n",
    "    cat(\"A probabilidade de determinar a segunda bola vermelha é\",p)\n",
    "    cat(\"\\nA probabilidade de de escolhermos duas peças da mesma cor é\",p2)\n",
    "}"
   ]
  },
  {
   "cell_type": "code",
   "execution_count": 26,
   "metadata": {},
   "outputs": [
    {
     "name": "stdout",
     "output_type": "stream",
     "text": [
      "A probabilidade de determinar a segunda bola vermelha é 0.5694444\n",
      "A probabilidade de de escolhermos duas peças da mesma cor é 0.3611111"
     ]
    }
   ],
   "source": [
    "#Vetor com 5  bolas vermelhas  e 3 brancas\n",
    "x=c(5,3)\n",
    "q16(x)"
   ]
  },
  {
   "cell_type": "markdown",
   "metadata": {},
   "source": [
    "### $\\color{red}{\\text{Questão 17}}$ - Recorrendo-se ao problema precedente:\n",
    "\n",
    "+ I) se a segunda bola é vermelha, qual é a probabilidade de que a primeira bola seja vemelha?\n",
    "+ II) se ambas são da mesma cor, qual é a probabilidade de que sejam brancas?\n",
    "\n",
    "### $\\color{red}{\\text{Resolução}}$:  \n",
    "\n",
    "Dado a arvore de probabilidades, temos:\n",
    "\n",
    "![](fig4.png)\n",
    "\n",
    "Para a letra (a), temos: \n",
    "\n",
    "$$P(V_1/V_2)=\\frac{P(V_1 \\cap V_2)}{P(V_2)}=\\frac{(\\frac{5}{8}\\cdot \\frac{4}{9})}{(\\frac{5}{8}\\cdot \\frac{4}{9}+\\frac{7}{9}\\cdot \\frac{3}{8})}=\\frac{20}{41}$$\n",
    "\n",
    "Para a letra (b), temos:\n",
    "$$\n",
    "P(Branca/Mesmacor)=\\frac{(\\frac{3}{8}\\cdot \\frac{2}{9})}{(\\frac{3}{8}\\cdot \\frac{2}{9}+\\frac{5}{8}\\cdot \\frac{4}{9})}=\\frac{3}{13}\n",
    "$$\n",
    "\n",
    "Uma função no R é apresentada a seguir, bastando utilizar `x=c(5,3)` e `q17(x)`."
   ]
  },
  {
   "cell_type": "code",
   "execution_count": 27,
   "metadata": {},
   "outputs": [],
   "source": [
    "q17=function(x){\n",
    " p=(x[1]/sum(x)*(x[1]-1)/(1+sum(x))) / ((x[1]/sum(x)*(x[1]-1)/(1+sum(x))) +((x[1]+2))/(1+sum(x))*(x[2])/(sum(x)))\n",
    "p2=(x[2]/sum(x)*(x[2]-1)/(1+sum(x))) / ((x[2]/sum(x)*(x[2]-1)/(1+sum(x))) + (x[1]/sum(x))*(x[1]-1)/(1+sum(x)))\n",
    "    cat(\"I) A probabilidade da segunda bola ser vermelha, sabendo que a primeira foi vermelha é\",p)\n",
    "    cat(\"\\nII) Se ambas são da mesma cor, qual é a probabilidade de que sejam brancas\",p2)\n",
    "\n",
    "}"
   ]
  },
  {
   "cell_type": "code",
   "execution_count": 28,
   "metadata": {},
   "outputs": [
    {
     "name": "stdout",
     "output_type": "stream",
     "text": [
      "I) A probabilidade da segunda bola ser vermelha, sabendo que a primeira foi vermelha é 0.4878049\n",
      "II) Se ambas são da mesma cor, qual é a probabilidade de que sejam brancas 0.2307692"
     ]
    }
   ],
   "source": [
    "#Entrando com o vetor de bolas\n",
    "#x=c(5,3)\n",
    "q17(x)"
   ]
  },
  {
   "cell_type": "markdown",
   "metadata": {},
   "source": [
    "### $\\color{red}{\\text{Questão 18}}$ - A urna A contém x bolas vermelhas e y bolas brancas e a urna B contém z bolas vermelhas e v bolas brancas.\n",
    "\n",
    "+ I) Se uma urna é selecioanda ao acaso, é uma bola retirada, qua. é a probabilidade de que a bola seja vermelha?\n",
    "+ II) Se uma  bola é retirada da urna A e colocada na urna B, e uma bola é retirada da urna B, qual é a probabilidade de que a segunda bola seja vermelha?\n",
    "\n",
    "### $\\color{red}{\\text{Resolução}}$: \n",
    "\n",
    "![](fig5.png)\n",
    "\n",
    "Para responder a primeira questão, temos:\n",
    "\n",
    "$$P(V)=P(V/A)+P(V/B)=\\frac{1}{2}\\cdot \\frac{x}{(x+y)}+ \\frac{1}{2}\\cdot \\frac{z}{(z+v)}=\\frac{1}{2} \\cdot \\left(\\frac{x}{(x+y)}+\\frac{z}{(z+v)}\\right)$$\n",
    "\n",
    "Para responder a segunda questão, temos:\n",
    "\n",
    "![](fig6.png)\n",
    "\n",
    "\n",
    "$$P(V_2)=P(V_2/V_1)\\cdot P(V_1)+ P(V_2/B_1)\\cdot P(B_1)=\\frac{(1+z)}{(1+z+v)}\\cdot \\frac{x}{(x+y)}+ \\frac{z}{(z+v+1)}\\cdot \\frac{y}{(x+y)}$$\n",
    "\n"
   ]
  },
  {
   "cell_type": "markdown",
   "metadata": {},
   "source": [
    "### $\\color{red}{\\text{Questão 19}}$ - Uma urna contém x bolas brancas e y bolas pretas. Extraem-se todas elas. Qual a probabilidade de que saiam primeiro as brancas e as pretas?\n",
    "\n",
    "### $\\color{red}{\\text{Resolução}}$:\n",
    "\n",
    "Dada a figura:\n",
    "\n",
    "![](fig7.png)\n",
    "\n",
    "Temos:\n",
    "\n",
    "$$\\frac{(x-2)}{(x+y-2)}\\cdot \\frac{(x-1)}{(x+y-1)}\\cdot \\frac{x}{(x+y)}\\cdot \\frac{y}{(y+x)}\\cdot \\frac{(y-1)}{(x+y-1)}\\cdot \\frac{(y-2)}{(x+y-2)}=\\frac{x!\\cdot y!}{(x+y)!}$$"
   ]
  },
  {
   "cell_type": "markdown",
   "metadata": {},
   "source": [
    "### $\\color{red}{\\text{Questão 20}}$ - Sejam E : lançar dois dados, e\n",
    "\n",
    "+ $A = \\{(x_1,x_2) / x_1 + x_2=8\\}$\n",
    "+ $B = \\{(x_1,x_2)/x_1=x_2\\}$\n",
    "+ $C = \\{(x_1,x_2)/x_1+x_2=10\\}$\n",
    "+ $D = \\{(x_1,x_2)/x_1>x_2\\}$\n",
    "+ $E = \\{(x_1,x_2)/x_1=2x_2\\}$\n",
    "\n",
    "Calcular:\n",
    "\n",
    "+ a) $P(A/B)$\n",
    "+ b) $P(C/D)$\n",
    "+ c) $P(D/E)$\n",
    "+ d) $P(A/C)$\n",
    "+ e) $P(C/E)$\n",
    "+ f) $P(C/A)$\n",
    "+ g) $P(A/D)$\n",
    "+ h) $P(B/C)$\n",
    "+ i) $P(A/E)$\n",
    "+ j) $P(B/E)$\n",
    "+ k) $P(A/B \\cap C)$\n",
    "+ l) $P(A \\cap B / C \\cap D)$\n",
    "\n",
    "### $\\color{red}{\\text{Resolução}}$:\n",
    "\n",
    "Uma função para resolver a questão acima é apresentada a seguir:\n",
    "\n",
    "| (x,y) | (x,y) | (x,y) | (x,y) | (x,y) | (x,y) |\n",
    "|:-----:|:-----:|:-----:|:-----:|:-----:|:-----:|\n",
    "| (1,1) | (1,2) | (1,3) | (1,4) | (1,5) | (1,6) |\n",
    "| (2,1) | (2,2) | (2,3) | (2,4) | (2,5) | (2,6) |\n",
    "| (3,1) | (3,2) | (3,3) | (3,4) | (3,5) | (3,6) |\n",
    "| (4,1) | (4,2) | (4,3) | (4,4) | (4,5) | (4,6) |\n",
    "| (5,1) | (5,2) | (5,3) | (5,4) | (5,5) | (5,6) |\n",
    "| (6,1) | (6,2) | (6,3) | (6,4) | (6,5) | (6,6) |"
   ]
  },
  {
   "cell_type": "code",
   "execution_count": 29,
   "metadata": {},
   "outputs": [],
   "source": [
    "aeb=1;b=6;ced=1;d=15;dee=3;e=3;aec=0;cee=0;aed=2;bec=1;c=3;bec=0;bee=0;aebec=0;aebeced=0\n",
    "x=c(aeb,b,ced,d,dee,e,aec,cee,aed,bec,c,bec,bee,aebec)\n",
    "q20=function(x){\n",
    "    cat(\"a) P(A/B)=\",x[1]/x[2])\n",
    "    cat(\"\\nb) P(C/D)=\",x[3]/x[4])\n",
    "    cat(\"\\nc) P(D/E)=\",x[5]/x[6])\n",
    "    cat(\"\\nd) P(A/C)=\",x[7])\n",
    "    cat(\"\\ne) P(C/E)=\",x[8])\n",
    "    cat(\"\\nf) P(C/A)=\",x[7])\n",
    "    cat(\"\\ng) P(A/D)=\",x[9]/x[4])\n",
    "    cat(\"\\nh) P(B/C)=\",x[10]/x[11])\n",
    "    cat(\"\\ni) P(A/E)=\",x[12])\n",
    "    cat(\"\\nj) P(B/E)=\",x[13])\n",
    "    cat(\"\\nk) P(A/BeC)=\",x[14])\n",
    "    cat(\"\\nl) P(AeC/CeD)=\",x[15])\n",
    "}"
   ]
  },
  {
   "cell_type": "code",
   "execution_count": 30,
   "metadata": {},
   "outputs": [
    {
     "name": "stdout",
     "output_type": "stream",
     "text": [
      "a) P(A/B)= 0.1666667\n",
      "b) P(C/D)= 0.06666667\n",
      "c) P(D/E)= 1\n",
      "d) P(A/C)= 0\n",
      "e) P(C/E)= 0\n",
      "f) P(C/A)= 0\n",
      "g) P(A/D)= 0.1333333\n",
      "h) P(B/C)= 0\n",
      "i) P(A/E)= 0\n",
      "j) P(B/E)= 0\n",
      "k) P(A/BeC)= 0\n",
      "l) P(AeC/CeD)= NA"
     ]
    }
   ],
   "source": [
    "q20(x)"
   ]
  },
  {
   "cell_type": "markdown",
   "metadata": {},
   "source": [
    "### $\\color{red}{\\text{Questão 21}}$ - Temos duas caixas: na primeira há 3 bolas brancas e 7 pretas e na 2a., 1 bola branca e 5 pretas. De uma caixa escolhida ao acaso, seleciona-se uma bola e verifica-se qu é preta. Qual a probabilidade de que a caxia de onde for extraída a bola seja a primeira? e a segunda?\n",
    "\n",
    "### $\\color{red}{\\text{Resolução}}$: \n",
    "\n",
    "A figura a seguir nos ajudará a visualizar a resolução do exercício:\n",
    "\n",
    "![](fig8.png)\n",
    "\n",
    "Portanto a probabilidade de que a caixa de onde for extraída a bola seja a primeira é:\n",
    "\n",
    "$$P(U_1/P)=\\frac{P(U_1 \\cap P)}{P(P)}=\\frac{P(P/U_1)\\cdot P(U_1)}{P(P/U_1)\\cdot P(U_1)+ P(P/U_2)\\cdot P(U_2)}=\\frac{\\frac{7}{10}\\cdot \\frac{1}{2}}{\\frac{7}{10}\\cdot \\frac{1}{2}+\\frac{5}{6}\\cdot \\frac{1}{2}}=\\frac{21}{46}.$$\n",
    "\n",
    "Portanto a probabilidade de que a caixa de onde for extraída a bola seja a segunda é:\n",
    "$$P(U_2/P)=\\frac{P(U_2 \\cap P)}{P(P)}=\\frac{P(P/U_2)\\cdot P(U_2)}{P(P/U_2)\\cdot P(U_2)+ P(P/U_1)\\cdot P(U_1)}=\\frac{\\frac{5}{6}\\cdot \\frac{1}{2}}{\\frac{7}{10}\\cdot \\frac{1}{2}+\\frac{5}{6}\\cdot \\frac{1}{2}}=\\frac{25}{46}.$$\n"
   ]
  },
  {
   "cell_type": "code",
   "execution_count": 31,
   "metadata": {},
   "outputs": [],
   "source": [
    "q21=function(x){\n",
    "\n",
    "    # Temos 3 bolas brancas e 7 pretas na urna 1 e 1 bola branca e 5 pretas na urna 2\n",
    "    u1=c(x[1],x[2])\n",
    "    u2=c(x[3],x[4])\n",
    "    \n",
    "    p1=((u1[2])/sum(u1)*0.5)/((u1[2])/sum(u1)*0.5+u2[2]/sum(u2)*0.5)\n",
    "    p2=((u2[2])/sum(u2)*0.5)/((u1[2])/sum(u1)*0.5+u2[2]/sum(u2)*0.5)\n",
    "    cat(\"A probabilidade desejada é\",p1)\n",
    "    cat(\"\\nA probabilidade desejada é\",p2)\n",
    "}"
   ]
  },
  {
   "cell_type": "code",
   "execution_count": 32,
   "metadata": {},
   "outputs": [
    {
     "name": "stdout",
     "output_type": "stream",
     "text": [
      "A probabilidade desejada é 0.4565217\n",
      "A probabilidade desejada é 0.5434783"
     ]
    }
   ],
   "source": [
    "#Bolas brancas e pretas nas urnas  1 e 2\n",
    "x=c(3,7,1,5)\n",
    "q21(x)"
   ]
  },
  {
   "cell_type": "markdown",
   "metadata": {},
   "source": [
    "### $\\color{red}{\\text{Questão 22}}$  - A probabilidade de um indivíduo de classe A comprar um carro é $\\frac{3}{4}$, de B é $\\frac{1}{6}$ e de C é $\\frac{1}{20}$. A probabilidade do indivíduo de classe A comprar um da marca D é $\\frac{1}{10}$; de B comprar da marca D é $\\frac{3}{5}$ e de C é $\\frac{3}{10}$. Em certa loja comprou-se um carro d marca D. Qual a probabilidade de que o indiǘiduo da classe B o tenha comprado?\n",
    "\n",
    "### $\\color{red}{\\text{Resolução}}$: \n",
    "\n",
    "A árvore de probabilidade nos dará uma ideia da resolução do exercício:\n",
    "\n",
    "![](fig9.png)\n",
    "\n",
    "Desta forma, temos:\n",
    "\n",
    "$$P(B/D)=\\frac{P(B \\cap D)}{P(D)}=\\frac{P(D/B)\\cdot P(B)}{P(D/A)\\cdot P(A) + P(D/B) \\cdot P(B) + P(D/C)\\cdot P(C) }=\\frac{\\frac{1}{6}\\cdot \\frac{3}{5}}{\\frac{1}{10}\\cdot \\frac{3}{4}+\\frac{1}{6}\\cdot \\frac{3}{5}+\\frac{1}{20}\\cdot \\frac{3}{10}}=\\frac{10}{19}$$\n",
    "\n",
    "Uma pequena função no R é apresentada a seguir, bastando usarmos `q22(x)` com `x=c(3/4,1/6,1/20,1/10,3/5,3/10)`."
   ]
  },
  {
   "cell_type": "code",
   "execution_count": 33,
   "metadata": {},
   "outputs": [],
   "source": [
    "q22=function(x){\n",
    "    p1=(x[2]*x[5])/(x[4]*x[1]+x[2]*x[5]+x[3]*x[6])\n",
    "    cat(\"A probabilidade desejada é\",p1)\n",
    "}"
   ]
  },
  {
   "cell_type": "code",
   "execution_count": 34,
   "metadata": {},
   "outputs": [
    {
     "name": "stdout",
     "output_type": "stream",
     "text": [
      "A probabilidade desejada é 0.5263158"
     ]
    }
   ],
   "source": [
    "#vetor de probabilidades\n",
    "x=c(3/4,1/6,1/20,1/10,3/5,3/10)\n",
    "q22(x)"
   ]
  },
  {
   "cell_type": "markdown",
   "metadata": {},
   "source": [
    "### $\\color{red}{\\text{Questão 23}}$ - Em certo colégio, 5% dos homens e 2% das mulheres têm mais do que 1,80 m de altura. Por outro lado, 60% dos estudantes são homens. Se um estudante é selecionado aleatoriamente e tem mais de 1,80 m de altura, qual a probabilidade de que o estudante seja mulher?\n",
    "\n",
    "### $\\color{red}{\\text{Resolução}}$: \n",
    "\n",
    "Temos a seguinte árvore de probabilidades:\n",
    "\n",
    "![](fig10.png)\n",
    "\n",
    "Desta forma, temos:\n",
    "\n",
    "$$P(M/A)=\\frac{P(M \\cap A)}{P(A)}=\\frac{P(A/M)\\cdot P(M)}{P(A/H)\\cdot P(H)+P(A/M)\\cdot P(M)}=\\frac{0,4 \\cdot 0,02}{0,6 \\cdot 0,05+0,4\\cdot 0,02}=\\frac{4}{19}$$\n",
    "\n",
    "No R poderemos usar `x=c(0.6,0.4,0.05,0.02)` como o vetor de probabilidade e `q23(x)`."
   ]
  },
  {
   "cell_type": "code",
   "execution_count": 35,
   "metadata": {},
   "outputs": [],
   "source": [
    "q23=function(x){\n",
    "    p=x[2]*x[4]/(x[2]*x[4]+x[1]*x[3])\n",
    "    cat(\"A probabilidade desejada é\",p)\n",
    "}"
   ]
  },
  {
   "cell_type": "code",
   "execution_count": 36,
   "metadata": {},
   "outputs": [
    {
     "name": "stdout",
     "output_type": "stream",
     "text": [
      "A probabilidade desejada é 0.2105263"
     ]
    }
   ],
   "source": [
    "#vetor de probabilidades\n",
    "x=c(0.6,0.4,0.05,0.02)\n",
    "q23(x)"
   ]
  },
  {
   "cell_type": "markdown",
   "metadata": {},
   "source": [
    "### $\\color{red}{\\text{Questão 24}}$ - Três máquinas, A, B e C produzem respectivamente 40%, 50% e 10% do total de peças de uma fábrica. As porcentagens de peças defeituosas nas respectivas máquinas são 3%, 5% e 2%. Uma peça é sorteada ao acaso e verifica-se que é defeituosa. Qual a probabilidade de que a peça tenha vindo da máquina B?\n",
    "\n",
    "### $\\color{red}{\\text{Resolução}}$:\n",
    "\n",
    "A árvore de probabilidade é apresentado a seguir:\n",
    "\n",
    "![](fig11.png)\n",
    "\n",
    "Desta forma, temos:\n",
    "\n",
    "$$P(B/D)=\\frac{P(B \\cap D)}{P(D)}=\\frac{P(D/B)\\cdot P(B)}{P(D/A)\\cdot P(A)+ P(D/B)\\cdot P(B) + P(D/C)\\cdot P(C)}=\\frac{0,5\\cdot 0,05}{0,03 \\cdot 0,4+0,05\\cdot 0,5+0,1 \\cdot 0,02}=\\frac{25}{39}$$\n",
    "\n",
    "Uma função no R é apresentada a seguir, bastando usar o vetor de probabilidades `x=c(0.4,0.5,0.10,0.03,0.05,0.02)` e `x24(x)`."
   ]
  },
  {
   "cell_type": "code",
   "execution_count": 1,
   "metadata": {},
   "outputs": [],
   "source": [
    "q24=function(x){\n",
    "    p=x[2]*x[5]/(x[4]*x[1]+x[2]*x[5]+x[3]*x[6])\n",
    "    cat(\"A probabilidade desejada é\",p)\n",
    "}"
   ]
  },
  {
   "cell_type": "code",
   "execution_count": 2,
   "metadata": {},
   "outputs": [
    {
     "name": "stdout",
     "output_type": "stream",
     "text": [
      "A probabilidade desejada é 0.6410256"
     ]
    }
   ],
   "source": [
    "#vetor de probabilidades\n",
    "x=c(0.4,0.5,0.10,0.03,0.05,0.02)\n",
    "q24(x)"
   ]
  },
  {
   "cell_type": "markdown",
   "metadata": {},
   "source": [
    "### $\\color{red}{\\text{Questão 25}}$ - Apenas uma em cada dez pessoas de uma população tem tuberculose. Das pessoas que têm tuberculose 80% reagem positivamente ao teste Y, enquanto apenas 30% dos que não têm tuberculose reagem positivamente. Uma pessoa da população é selecionada ao acaso e o teste Y é aplicado. Qual a probabilidade de que essa pessoa tenha tuberculose, se reagiu positivamente ao teste?\n",
    "\n",
    "### $\\color{red}{\\text{Resolução}}$ :\n",
    "\n",
    "A árvere de probabilidade é apresentada a seguir:\n",
    "\n",
    "![](fig12.png)\n",
    "\n",
    "$$P(D/T+)=\\frac{P(D \\cap T+)}{P(T+)}=\\frac{P(T+/D)\\cdot P(D)}{P(T+/D)\\cdot P(D) + P(T+/S)\\cdot P(S)}=\\frac{0.1 \\cdot 0,80}{0,1 \\cdot 0,8+0,9 \\cdot 0,3}=\\frac{8}{35}$$\n",
    "\n",
    "Uma função no R é apresentada com o vetor de probabilidades `x=c(0.10,0.9,0.8,0.2,0.3,0.7)` e `x25(x)`."
   ]
  },
  {
   "cell_type": "code",
   "execution_count": null,
   "metadata": {},
   "outputs": [],
   "source": [
    "q25=function(x){\n",
    "    p=x[1]*x[3]/(x[1]*x[3]+x[2]*x[5])\n",
    "    cat(\"A probabilidade desejada é\",p)\n",
    "}"
   ]
  },
  {
   "cell_type": "code",
   "execution_count": null,
   "metadata": {},
   "outputs": [],
   "source": []
  }
 ],
 "metadata": {
  "kernelspec": {
   "display_name": "R",
   "language": "R",
   "name": "ir"
  },
  "language_info": {
   "codemirror_mode": "r",
   "file_extension": ".r",
   "mimetype": "text/x-r-source",
   "name": "R",
   "pygments_lexer": "r",
   "version": "3.6.1"
  }
 },
 "nbformat": 4,
 "nbformat_minor": 4
}
