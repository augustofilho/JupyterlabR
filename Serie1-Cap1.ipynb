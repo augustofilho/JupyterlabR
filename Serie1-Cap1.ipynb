{
 "cells": [
  {
   "cell_type": "markdown",
   "metadata": {},
   "source": [
    "# Exercícios - Série I - Capítulo 1"
   ]
  },
  {
   "cell_type": "markdown",
   "metadata": {},
   "source": [
    "\n",
    "### Questão 1 - Lance um dado e uma moeda\n",
    "\n"
   ]
  },
  {
   "cell_type": "markdown",
   "metadata": {},
   "source": [
    "* a ) **Construa o espaço amostral**\n",
    "\n",
    "$\\color{red}{\\text{Resolução:}}$ \n",
    "\n",
    "O espaço amostral é a união de todos os resultados possíveis de um experimento, ou seja, deveremos unir em uma única resposta os resultados possíveis associados ao lançamento de uma moeda **cara** e **coroa** e os resultados obtidos em um lançamento de um dado  $1,2,\\ldots,6$. Portanto, deveremos **concatenar** os resultados e para isso utilizaremos o comando `paste`:\n"
   ]
  },
  {
   "cell_type": "code",
   "execution_count": 1,
   "metadata": {},
   "outputs": [],
   "source": [
    "cara=paste(\"cara\",1:6,sep = \",\")\n",
    "coroa=paste(\"coroa\",1:6,sep=\",\")\n",
    "amostra=c(cara,coroa)\n"
   ]
  },
  {
   "cell_type": "markdown",
   "metadata": {},
   "source": [
    "Portanto o espaço amostral é dado por:\n"
   ]
  },
  {
   "cell_type": "code",
   "execution_count": 2,
   "metadata": {},
   "outputs": [
    {
     "name": "stdout",
     "output_type": "stream",
     "text": [
      "A resposta é dada por"
     ]
    },
    {
     "data": {
      "text/html": [
       "<table>\n",
       "<caption>A matrix: 1 × 12 of type chr</caption>\n",
       "<tbody>\n",
       "\t<tr><td>cara,1</td><td>cara,2</td><td>cara,3</td><td>cara,4</td><td>cara,5</td><td>cara,6</td><td>coroa,1</td><td>coroa,2</td><td>coroa,3</td><td>coroa,4</td><td>coroa,5</td><td>coroa,6</td></tr>\n",
       "</tbody>\n",
       "</table>\n"
      ],
      "text/latex": [
       "A matrix: 1 × 12 of type chr\n",
       "\\begin{tabular}{llllllllllll}\n",
       "\t cara,1 & cara,2 & cara,3 & cara,4 & cara,5 & cara,6 & coroa,1 & coroa,2 & coroa,3 & coroa,4 & coroa,5 & coroa,6\\\\\n",
       "\\end{tabular}\n"
      ],
      "text/markdown": [
       "\n",
       "A matrix: 1 × 12 of type chr\n",
       "\n",
       "| cara,1 | cara,2 | cara,3 | cara,4 | cara,5 | cara,6 | coroa,1 | coroa,2 | coroa,3 | coroa,4 | coroa,5 | coroa,6 |\n",
       "\n"
      ],
      "text/plain": [
       "     [,1]   [,2]   [,3]   [,4]   [,5]   [,6]   [,7]    [,8]    [,9]    [,10]  \n",
       "[1,] cara,1 cara,2 cara,3 cara,4 cara,5 cara,6 coroa,1 coroa,2 coroa,3 coroa,4\n",
       "     [,11]   [,12]  \n",
       "[1,] coroa,5 coroa,6"
      ]
     },
     "metadata": {},
     "output_type": "display_data"
    }
   ],
   "source": [
    "cat(\"A resposta é dada por\")\n",
    "t(amostra)\n"
   ]
  },
  {
   "cell_type": "markdown",
   "metadata": {},
   "source": [
    "\n",
    "* b ) **Enumere os seguintes eventos:**\n",
    "\n",
    "  + A ={Coroa marcado por um número par}\n",
    "  + B ={Cara, marcado por um número ímpar}\n",
    "  + C ={Múltiplo de 3}\n",
    "\n",
    "$\\color{red}{\\text{Resolução:}}$ \n"
   ]
  },
  {
   "cell_type": "markdown",
   "metadata": {},
   "source": [
    "O evento **A** deverá ser composto por **coroa** e acompanhando por um número **par**, desta forma, temos:\n"
   ]
  },
  {
   "cell_type": "code",
   "execution_count": 3,
   "metadata": {},
   "outputs": [
    {
     "name": "stdout",
     "output_type": "stream",
     "text": [
      "[1] \"coroa,2\" \"coroa,4\" \"coroa,6\"\n"
     ]
    }
   ],
   "source": [
    "i=c(8,10,12)\n",
    "print(amostra[i])"
   ]
  },
  {
   "cell_type": "markdown",
   "metadata": {},
   "source": [
    "É importante observar que a **amostra** apresenta uma sequência de resultados numeradas de $1,2,\\ldots,12$ e se usarmos a posição de cada resultado, poderemos determinar a resposta, ou seja, a posição da amostra[2] nos resultará na resposta `(coroa,4)`."
   ]
  },
  {
   "cell_type": "markdown",
   "metadata": {},
   "source": [
    "O evento **B** é apresentado por:"
   ]
  },
  {
   "cell_type": "code",
   "execution_count": 4,
   "metadata": {},
   "outputs": [
    {
     "name": "stdout",
     "output_type": "stream",
     "text": [
      "[1] \"cara,2\" \"cara,4\" \"cara,6\"\n"
     ]
    }
   ],
   "source": [
    "i=c(2,4,6)\n",
    "print(amostra[i])"
   ]
  },
  {
   "cell_type": "markdown",
   "metadata": {},
   "source": [
    "O evento **C** é constituído pelos resultados que são múltiplos de três, desta forma, temos:"
   ]
  },
  {
   "cell_type": "code",
   "execution_count": 5,
   "metadata": {},
   "outputs": [
    {
     "name": "stdout",
     "output_type": "stream",
     "text": [
      "[1] \"cara,3\"  \"cara,6\"  \"coroa,3\" \"coroa,6\"\n"
     ]
    }
   ],
   "source": [
    "i=c(3,6,9,12)\n",
    "print(amostra[i])"
   ]
  },
  {
   "cell_type": "markdown",
   "metadata": {},
   "source": [
    "\n",
    "* c ) **Expresse os eventos:**\n",
    "  + $\\overline{B}$\n",
    "  + A ou B ocorrem\n",
    "  + B e C ocorrem\n",
    "  + $\\overline{(A \\cup B)}$\n",
    "\n",
    "$\\color{red}{\\text{Resolução:}}$ \n",
    "\n",
    "+ Na primeira pergunta, deveremos determinar todos os elementos que constituem a pergunta: $(amostra-B)$, em que B é constituído de (\"cara,2\"; \"cara,4\" e \"cara,6\"), portanto temos:\n"
   ]
  },
  {
   "cell_type": "markdown",
   "metadata": {},
   "source": [
    "\n",
    "$\\begin{eqnarray}\n",
    "\\overline{B} &=&Amostra - B\\\\\n",
    "\\overline{B} &=& (cara,1),(cara,3),(cara,5),(coroa,1),(coroa,2),(coroa,3),(coroa,4),(coroa,5),(coroa,6)\n",
    "\\end{eqnarray}$\n"
   ]
  },
  {
   "cell_type": "markdown",
   "metadata": {},
   "source": [
    "+ Para a segunda pergunta temos $A \\cup B$, usando uma pequena rotina no R, temos:\n"
   ]
  },
  {
   "cell_type": "code",
   "execution_count": 6,
   "metadata": {},
   "outputs": [
    {
     "name": "stdout",
     "output_type": "stream",
     "text": [
      "[1] \"cara,2\"  \"cara,3\"  \"cara,4\"  \"cara,6\"  \"coroa,3\" \"coroa,6\"\n"
     ]
    }
   ],
   "source": [
    "i=c(2,3,4,6,9,12)\n",
    "print(amostra[i])\n"
   ]
  },
  {
   "cell_type": "markdown",
   "metadata": {},
   "source": [
    "+ Para a letra (c), temos:\n",
    "\n",
    "Deveremos determinar os elementos comuns entre o evento *A* e o evento *B*, desta forma, temos:"
   ]
  },
  {
   "cell_type": "code",
   "execution_count": 7,
   "metadata": {},
   "outputs": [
    {
     "name": "stdout",
     "output_type": "stream",
     "text": [
      "[1] \"cara,6\"\n"
     ]
    }
   ],
   "source": [
    "i=6\n",
    "print(amostra[i])"
   ]
  },
  {
   "cell_type": "markdown",
   "metadata": {},
   "source": [
    "observe que somente o elemento que ocupa a sexta posição é ao mesmo tempo par e ímpar.\n"
   ]
  },
  {
   "cell_type": "markdown",
   "metadata": {},
   "source": [
    "+ Para determinar $(\\overline{A \\cup B})$, temos:\n"
   ]
  },
  {
   "cell_type": "code",
   "execution_count": 8,
   "metadata": {},
   "outputs": [
    {
     "name": "stdout",
     "output_type": "stream",
     "text": [
      "[1] \"cara,1\"  \"coroa,1\" \"coroa,2\" \"coroa,4\" \"coroa,5\"\n"
     ]
    }
   ],
   "source": [
    "i=c(1,7,8,10,11)\n",
    "print(amostra[i])\n"
   ]
  },
  {
   "cell_type": "markdown",
   "metadata": {},
   "source": [
    "+ Quais dos eventos A, B e C são mutuamente exclusivos?\n",
    "\n",
    "Para que os eventos A, B e C sejam considerados eventos mutuamente exclusivos, deveremos ter $(A \\cap B)=0$, $(A \\cap C)=0$, $(B \\cap C)=0$ ou $(A \\cap B \\cap C)=0$, ou seja, não devem haver elementos em comum entre os conjuntos. Já conhecemos os elementos que compõe o evento *A*, e *B*, os elementos que compoõe o evento *C* é apresentado a seguir:"
   ]
  },
  {
   "cell_type": "code",
   "execution_count": 9,
   "metadata": {},
   "outputs": [
    {
     "data": {
      "text/html": [
       "<table>\n",
       "<caption>A matrix: 1 × 4 of type chr</caption>\n",
       "<tbody>\n",
       "\t<tr><td>cara,3</td><td>cara,6</td><td>coroa,3</td><td>coroa,6</td></tr>\n",
       "</tbody>\n",
       "</table>\n"
      ],
      "text/latex": [
       "A matrix: 1 × 4 of type chr\n",
       "\\begin{tabular}{llll}\n",
       "\t cara,3 & cara,6 & coroa,3 & coroa,6\\\\\n",
       "\\end{tabular}\n"
      ],
      "text/markdown": [
       "\n",
       "A matrix: 1 × 4 of type chr\n",
       "\n",
       "| cara,3 | cara,6 | coroa,3 | coroa,6 |\n",
       "\n"
      ],
      "text/plain": [
       "     [,1]   [,2]   [,3]    [,4]   \n",
       "[1,] cara,3 cara,6 coroa,3 coroa,6"
      ]
     },
     "metadata": {},
     "output_type": "display_data"
    }
   ],
   "source": [
    "#C múltiplo de 3.\n",
    "i=c(3,6,9,12)\n",
    "t(amostra[i])"
   ]
  },
  {
   "cell_type": "markdown",
   "metadata": {},
   "source": [
    "Portanto, iremos verificar se $(A \\cap B)$?"
   ]
  },
  {
   "cell_type": "code",
   "execution_count": 10,
   "metadata": {},
   "outputs": [
    {
     "name": "stdout",
     "output_type": "stream",
     "text": [
      "[1] \"cara,6\"\n"
     ]
    }
   ],
   "source": [
    "i=6\n",
    "print(amostra[i])"
   ]
  },
  {
   "cell_type": "markdown",
   "metadata": {},
   "source": [
    "Logo $(A \\cap B)= (cara,6)$, que caracteriza que não é um evento disjuntou ou mutuamente excludente. Mais o que dizer de $(A \\cap C)$?\n"
   ]
  },
  {
   "cell_type": "code",
   "execution_count": 11,
   "metadata": {},
   "outputs": [
    {
     "name": "stdout",
     "output_type": "stream",
     "text": [
      "[1] \"cara,6\"\n"
     ]
    }
   ],
   "source": [
    "i=6\n",
    "print(amostra[i])"
   ]
  },
  {
   "cell_type": "markdown",
   "metadata": {},
   "source": [
    "Portanto o evento $(A \\cap C)= (cara,6)$ que caracteriza que não é um evento disjunto. O evento ($B \\cap C$) é apresentado a seguir:\n"
   ]
  },
  {
   "cell_type": "code",
   "execution_count": 12,
   "metadata": {},
   "outputs": [
    {
     "name": "stdout",
     "output_type": "stream",
     "text": [
      "[1] \"cara,3\"  \"cara,6\"  \"coroa,3\" \"coroa,6\"\n"
     ]
    }
   ],
   "source": [
    "i=c(3,6,9,12)\n",
    "print(amostra[i])\n"
   ]
  },
  {
   "cell_type": "markdown",
   "metadata": {},
   "source": [
    "Logo o evento $(B \\cap C)= (cara,3),(cara,6),(coroa,3),(coroa,6)$. Portanto o evento $(A \\cap B \\cap C)=(cara,6)$, ou seja, o evento em estudo não é mutuamente exclusivo.\n"
   ]
  },
  {
   "cell_type": "markdown",
   "metadata": {},
   "source": [
    "\n",
    "### Questão 2 - Se $P(A)=\\frac{1}{2}$; $P(B)=\\frac{1}{4}$ e A e B mutuamente exclusivos, calcular:\n",
    "\n",
    "$\\color{red}{\\text{Resolução:}}$ \n"
   ]
  },
  {
   "cell_type": "markdown",
   "metadata": {},
   "source": [
    "Neste exercícios já é sabido os valos das probabilidades de $P(A)=0,5$, $P(B)=0,25$ e   $P(A \\cap B)=0$, visto que A e B são mutuamente excludentes. Uma pequena rotina feita em R é apresentada a seguir:\n"
   ]
  },
  {
   "cell_type": "code",
   "execution_count": 13,
   "metadata": {},
   "outputs": [],
   "source": [
    "prob=function(a,b){\n",
    "  cat(\"a) A probabilidade do complemento de A é\",1-a)\n",
    "  cat(\"\\nb) A probabilidade do complemento de B é\",1-b)\n",
    "  cat(\"\\nc) A probabilidade do complementar de A inter B é\",0)\n",
    "  cat(\"\\nd) A probabilidade de A uniao B é\",a+b)\n",
    "  cat(\"\\ne) A probabilidade do complementar de A inter B é\",1)\n",
    "}"
   ]
  },
  {
   "cell_type": "markdown",
   "metadata": {},
   "source": [
    "Os valores das probabilidades de A e B são dados por $a=0.50$ e $b=0.25$, desta forma, temos:\n"
   ]
  },
  {
   "cell_type": "code",
   "execution_count": 14,
   "metadata": {},
   "outputs": [
    {
     "name": "stdout",
     "output_type": "stream",
     "text": [
      "a) A probabilidade do complemento de A é 0.5\n",
      "b) A probabilidade do complemento de B é 0.25\n",
      "c) A probabilidade do complementar de A inter B é 0\n",
      "d) A probabilidade de A uniao B é 1.25\n",
      "e) A probabilidade do complementar de A inter B é 1"
     ]
    }
   ],
   "source": [
    "prob(0.50,0.75)"
   ]
  },
  {
   "cell_type": "markdown",
   "metadata": {},
   "source": [
    "### Questão 3 - Se $P(A)=\\frac{1}{2}$; $P(B)=\\frac{1}{3}$ e $P(A \\cap B)=\\frac{1}{4}$, calcule:\n",
    "\n",
    "$\\color{red}{\\text{Resolução:}}$ \n",
    "\n",
    "Sabendo que $P(A)=0.5$; $P(B)=0.33$ e $P(A \\cap B)=0.25$, poderemos desenvolver uma pequena rotina.\n"
   ]
  },
  {
   "cell_type": "code",
   "execution_count": 15,
   "metadata": {},
   "outputs": [],
   "source": [
    "quest3=function(a,b,c){\n",
    "  cat(\"a) A probabilidade de A uniao com B é\",a+b)\n",
    "  cat(\"\\nb) A probabilidade do complementar de A união com o complementar de B é\",1-c)\n",
    "  cat(\"\\nc) A probabilidade do complementar de A inter o complementar de B é\",1-(a+b-c))\n",
    "  }"
   ]
  },
  {
   "cell_type": "markdown",
   "metadata": {},
   "source": [
    "Poderemos chamar os resultados usando:"
   ]
  },
  {
   "cell_type": "code",
   "execution_count": 16,
   "metadata": {},
   "outputs": [
    {
     "name": "stdout",
     "output_type": "stream",
     "text": [
      "a) A probabilidade de A uniao com B é 0.83\n",
      "b) A probabilidade do complementar de A união com o complementar de B é 0.75\n",
      "c) A probabilidade do complementar de A inter o complementar de B é 0.42"
     ]
    }
   ],
   "source": [
    "quest3(0.5,0.33,0.25)"
   ]
  },
  {
   "cell_type": "markdown",
   "metadata": {},
   "source": [
    "É interessante demonstrar alguns dos cálculos realizados acima, por exemplo, para a letra (a), temos:\n",
    "$$\n",
    "P(A \\cup B) = P(A)+P(B)-P(A \\cap B) = 0.5+0.33+0 = 0.83\n",
    "$$\n",
    "\n",
    "Para a letra (b), temos:\n",
    "$$\n",
    "P(\\overline{A} \\cup \\overline{B}) = P(\\overline{A \\cap B}) = 1- P({A \\cap B}) = 1-0.25 = 0.75\n",
    "$$\n",
    "\n",
    "Para a letra (c), temos:\n",
    "\n",
    "$$\n",
    "P(\\overline{A} \\cap \\overline{B}) = P(\\overline{A \\cup B)} = 1- P(A \\cup B) = 1-(P(A)+P(B)-P(A \\cap B)) = 1-(0.5+0.33-0.25) = 1-0.58 = 0.42\n",
    "$$\n"
   ]
  },
  {
   "cell_type": "markdown",
   "metadata": {},
   "source": [
    "### Questão 4 - Determine a probabilidade de cada evento:\n",
    "\n",
    "*  a) Um número par aparece no lançamento de um dado não viciado;\n",
    "*  b) um rei aparece ao extra-se uma carta de um baralho;\n",
    "*  c) pelo menos uma cara aparece no lançamento de 3 moedas;\n",
    "*  d) pelo menos uma cara aparece no lançamento de 'n' moedas;\n",
    "*  e) duas copas aparecem ao retirarem-se duas cartas de um baralho;\n",
    "*  f) uma carta de copas e uma de ouros aparecem ao extraírem-se duas cartas de um baralho.\n",
    "\n",
    "$\\color{red}{\\text{Resolução:}}$ \n",
    "\n",
    "  + O espaço amostral associado ao experimento  *dado não viciado* é dado por $\\omega$ = (`r A=seq(1:6);A`), onde cada face do dado tem a mesma probabilidade de ocorrência.  O evento A = (número par) é dado por A = (`r a=c(2,4,6);a`). Portanto a probabilidade de $P(A) = \\frac{3}{6}$ = `r length(a)/length(A)`.\n",
    "  \n",
    "  \n",
    "  + Deveremos encontrar a probabilidade de se encontrar um rei ao extrair-se uma carta de um baralho. Neste caso o espaço amostral associado ao experimento será dado por $\\omega = (1,\\ldots, 52)$ cartas, sendo 4 áses, 4 reis, 4 damas e 4 valetes. Portanto a probabilidade procurada é dada por $P(B)=\\frac{4}{52}$ = `r 4/52`.  \n",
    "  \n",
    "  \n",
    "  + Nesta questão deveremos determinar a probabilidade de pelo menos uma *cara* aparecer em um lançamento de três moedas. Neste caso, o espaço amostral associado ao experimento é dado por $\\omega$ = (KKK,KKC,KCK,CKK,CCC,CCK,CKC,KCC), com o seguinte evento C = (KKC, KCK,CKK,CCC,CCK,CKC,KCC). Portanto a probabilidade será dada por $P(C)=\\frac{7}{8}$ = `r 7/8`.\n",
    "  \n",
    "  + Nesta questão deveremos determinar a probabilidade de aparecer pelo menos uma cara no lançamento de \"n\" moedas. Os casos possiveis associado a este experimento é dado por $2^n$ e os casos favoráveis é dado por $2^n-1$, portanto a probabilidade será dada por $P(D)=\\frac{2^n-1}{2^n}$.\n",
    "  \n",
    "  \n",
    "  + Deveremos determinar a probabilidade de duas copas aparecerem ao retirarem-se duas cartas de um baralho. Um baralho de 52 cartas tem 4 símbolos (Espadas, Copas, Ouros e Paus) diferentes. Cada um desses símbolos representa um naipe. Cada naipe possui 13 cartas (A,K,Q,J,10,9,8,7,6,5,4,3,3) que se repetem e portanto existem 4 Áses, 4 Reis, 4 Damas, 4 Valetes, etc. Portanto, supondo que este evento é sem reposição da carta extraída, teremos $P(E)=\\frac{13}{52}\\cdot \\frac{12}{51}=\\frac{1}{17}$.\n",
    "  \n",
    "  \n",
    "  + Deveremos determinar a probabilidade de uma carta de copas e uma de ouros aparecerem ao extraíremos duas cartas de um baralho. Temos $P(O_2/C_1)=\\frac{13}{51}\\cdot \\frac{13}{52}$ e $P(C_2/O_1)=\\frac{13}{51}\\cdot \\frac{13}{52}$. Desta forma, temos $P(Copas \\cap Ouros)=\\frac{13}{51}\\cdot \\frac{13}{52}+\\frac{13}{51}\\cdot \\frac{13}{52} = \\frac{13}{102}$ = `r 13/51*13/52+13/51*13/52`."
   ]
  },
  {
   "cell_type": "markdown",
   "metadata": {},
   "source": [
    "### Questão 5 - Um número inteiro é escolhido aleatoriamente dentre os números $1,2,\\ldots, 50$. qual a probabilidade de:\n",
    "\n",
    "*  a) O número ser divisível por 5;\n",
    "*  b) terminar em 3;\n",
    "*  c) ser primo;\n",
    "*  d) ser divisível por 6 ou por 8.\n",
    "\n",
    "$\\color{red}{\\text{Resolução:}}$ \n",
    "\n",
    "+   O espaço amostral associado ao experimento é dado por $\\omega$ = (`r a= seq(1:50);a`). Para que o número seja divisível por 5 ele deverá terminar em zerou ou 5, portanto, temos o seguinte evento associado ao experimento A=(`r A = c(5,10,15,20,25,30,35,40,45,50);A`). Portanto a probabilidade procurada é dada por $P(A)=\\frac{10}{50}$ = `r length(A)/length(seq(1:50))`.\n",
    "\n",
    "+ o evento associado em terminar em 3 é dado por B=(`r B =c(3,13,23,33,43);B`), portanto a probabilidade é dada por $P(B)=\\frac{5}{50}$ = `r  length(B)/length(seq(1:50))`.   \n"
   ]
  },
  {
   "cell_type": "markdown",
   "metadata": {},
   "source": [
    "#### Questão 5 - Um número inteiro é escolhido aleatoriamente dentre os números $1,2,3,\\ldots,50$. Qual a probabilidadede:\n",
    "\n",
    "\n",
    "+ a) O número ser divisível por 5;\n",
    "+ b) terminar em 3;\n",
    "+ c) ser primo;\n",
    "+ d) ser divisível por 6 ou por 8."
   ]
  },
  {
   "cell_type": "markdown",
   "metadata": {},
   "source": [
    "$\\color{red}{\\text{Resolução:}}$"
   ]
  },
  {
   "cell_type": "code",
   "execution_count": 17,
   "metadata": {},
   "outputs": [],
   "source": [
    "q5a=function(a){\n",
    "    # a é o tamanho da amostra\n",
    "    \n",
    "    cp=(seq(1:a)) # casos possíveis\n",
    "    cf=(cp%%5)==0 # casos favoráveis (para ser divisível por 5 o resto deve ser zero)\n",
    "    cat(\"A probabilidade é\")    \n",
    "    return(sum(cf)/a)\n",
    " }"
   ]
  },
  {
   "cell_type": "markdown",
   "metadata": {},
   "source": [
    "Portanto a probabilidade de encontrarmos um número divisível por 5 é:"
   ]
  },
  {
   "cell_type": "code",
   "execution_count": 18,
   "metadata": {},
   "outputs": [
    {
     "name": "stdout",
     "output_type": "stream",
     "text": [
      "A probabilidade é"
     ]
    },
    {
     "data": {
      "text/html": [
       "0.2"
      ],
      "text/latex": [
       "0.2"
      ],
      "text/markdown": [
       "0.2"
      ],
      "text/plain": [
       "[1] 0.2"
      ]
     },
     "metadata": {},
     "output_type": "display_data"
    }
   ],
   "source": [
    "q5a(50)"
   ]
  },
  {
   "cell_type": "markdown",
   "metadata": {},
   "source": [
    "* b) Para determininar a probabilidade de terminar em 3, temos:"
   ]
  },
  {
   "cell_type": "code",
   "execution_count": 19,
   "metadata": {},
   "outputs": [],
   "source": [
    "q5b=function(a){\n",
    "    cp=length(seq(1:a))\n",
    "    cf=length(seq(from=3,to=43,by=10))\n",
    "    cat(\"A probabilidade desejada é\",cf/cp)\n",
    "}"
   ]
  },
  {
   "cell_type": "markdown",
   "metadata": {},
   "source": [
    "Portanto, temos:"
   ]
  },
  {
   "cell_type": "code",
   "execution_count": 20,
   "metadata": {},
   "outputs": [
    {
     "name": "stdout",
     "output_type": "stream",
     "text": [
      "A probabilidade desejada é 0.1"
     ]
    }
   ],
   "source": [
    "q5b(50)"
   ]
  },
  {
   "cell_type": "markdown",
   "metadata": {},
   "source": [
    "* c) Determine a probabilidade de ser escolhido um número primo."
   ]
  },
  {
   "cell_type": "code",
   "execution_count": 21,
   "metadata": {},
   "outputs": [
    {
     "name": "stdout",
     "output_type": "stream",
     "text": [
      "A probabilidade desejada é 0.3"
     ]
    }
   ],
   "source": [
    "# Dado o espaço amostral desejado\n",
    "cp=seq(1:50)  #casos possíveis\n",
    "cf=c(2,3,5,7,11,13,17,19,23,29,31,37,41,43,47)\n",
    "cat(\"A probabilidade desejada é\",length(cf)/length(cp))"
   ]
  },
  {
   "cell_type": "markdown",
   "metadata": {},
   "source": [
    "* d) Determine a probabilidade do número ser divisível por 6 ou por 8"
   ]
  },
  {
   "cell_type": "code",
   "execution_count": 22,
   "metadata": {},
   "outputs": [
    {
     "name": "stdout",
     "output_type": "stream",
     "text": [
      "A divisão é 0.24"
     ]
    }
   ],
   "source": [
    "    cp=seq(1:50)\n",
    "    cf=c(6,8,12,16,18,24,30,32,36,40,42,48)\n",
    "    cat(\"A divisão é\",length(cf)/length(cp))\n"
   ]
  },
  {
   "cell_type": "markdown",
   "metadata": {},
   "source": [
    "#### Questão 6 - Qual a probabilidade de sair um rei ou uma carta de copas, quando retiramos uma carta de um baralho?\n",
    "\n",
    "$\\color{red}{\\text{Resolução:}}$"
   ]
  },
  {
   "cell_type": "code",
   "execution_count": 23,
   "metadata": {},
   "outputs": [],
   "source": [
    "q6=function(r,c){\n",
    "    # existem 4 reis em 52 cartas possíveis\n",
    "    # existem 13 copas em 52 cartas possíveis\n",
    "    # existe apenas um rei de copas em 52 cartas possíveis\n",
    "    cat(\"A probabilidade de sair um rei OU uma carta de copas é\",r+c-(r*c))\n",
    "}"
   ]
  },
  {
   "cell_type": "code",
   "execution_count": 24,
   "metadata": {},
   "outputs": [
    {
     "name": "stdout",
     "output_type": "stream",
     "text": [
      "A probabilidade de sair um rei OU uma carta de copas é 0.3076923"
     ]
    }
   ],
   "source": [
    "q6(4/52,13/52)"
   ]
  },
  {
   "cell_type": "markdown",
   "metadata": {},
   "source": [
    "#### Questão 7 - Dois dados são lançados simultaneamente. Qual a probabilidade de:\n",
    "\n",
    "+ a) a soma ser menor que 4;\n",
    "+ b) A soma ser 9;\n",
    "+ c) O primeiro resultado ser maior do que o segundo"
   ]
  },
  {
   "cell_type": "markdown",
   "metadata": {},
   "source": [
    "$\\color{red}{\\text{Resolução:}}$"
   ]
  },
  {
   "cell_type": "code",
   "execution_count": 25,
   "metadata": {},
   "outputs": [],
   "source": [
    "q7a=function(){\n",
    "    \n",
    "    # Matriz dos resultados da soma\n",
    "    ea=matrix(c(2,3,4,5,6,7,3,4,5,6,7,8,4,5,6,7,8,9,5,6,7,8,9,10,6,7,8,9,10,11,7,8,9,10,11,12),ncol=6,byrow=T)\n",
    "        \n",
    "    #letra (a)\n",
    "    pa=length(c(ea[1,1],ea[1,2],ea[2,1]))/length(ea)\n",
    "    \n",
    "    #letra (b)\n",
    "    pb=length(c(ea[3,6],ea[4,5],ea[5,4],ea[6,3]))/length(ea)\n",
    "    \n",
    "    #letra (c)\n",
    "    pc=15\n",
    "    \n",
    "    cat(\" a) A probabilidade da soma ser menor que 4 é\",pa)\n",
    "    cat(\"\\n b) A probabilidade da soma ser 9 é\",pb)\n",
    "    cat(\"\\n c) A probabilidade do primeiro resultado ser maior do que o segundo\",pc/36)\n",
    "    \n",
    "}"
   ]
  },
  {
   "cell_type": "code",
   "execution_count": 26,
   "metadata": {},
   "outputs": [
    {
     "name": "stdout",
     "output_type": "stream",
     "text": [
      " a) A probabilidade da soma ser menor que 4 é 0.08333333\n",
      " b) A probabilidade da soma ser 9 é 0.1111111\n",
      " c) A probabilidade do primeiro resultado ser maior do que o segundo 0.4166667"
     ]
    }
   ],
   "source": [
    "q7a()"
   ]
  },
  {
   "cell_type": "markdown",
   "metadata": {},
   "source": [
    "#### Questão 8 - Numa urna são misturadas dez bolas numeradas de 1 a 10. Duas bolas são retiradas (a,b) sem reposição. Qual a probabilidade de $a+b=10$.\n"
   ]
  },
  {
   "cell_type": "markdown",
   "metadata": {},
   "source": [
    "$\\color{red}{\\text{Resolução:}}$"
   ]
  },
  {
   "cell_type": "code",
   "execution_count": 27,
   "metadata": {},
   "outputs": [],
   "source": [
    "q8=function(n,p){\n",
    "    # n total de bolas misturadas 10\n",
    "    # p é a quantidade de bola extraída\n",
    "    \n",
    "    # casos favoráveis\n",
    "    # factorial(n)/(factorial(n-p)*factorial(p))\n",
    "    cp= choose(n,p)\n",
    "        \n",
    "    # casos possíveis\n",
    "    cf= 4\n",
    "    \n",
    "    cat(\"A probabilidade de a+b=10 é\",cf/cp)\n",
    "}"
   ]
  },
  {
   "cell_type": "code",
   "execution_count": 28,
   "metadata": {},
   "outputs": [
    {
     "name": "stdout",
     "output_type": "stream",
     "text": [
      "A probabilidade de a+b=10 é 0.08888889"
     ]
    }
   ],
   "source": [
    "q8(10,2)"
   ]
  },
  {
   "cell_type": "markdown",
   "metadata": {},
   "source": [
    "#### Questão 9 - Um lete é formado por 10 peças boas, 4 com defeitos e duas com defeitos graves. Uma peça é escolhida ao acaso. Calcule a probabilidade de que:\n",
    "\n",
    "+ a) Ele não tenha defeitos graves;\n",
    "+ b) Ele não tenha defeitos;\n",
    "+ c) ele ou seja boa ou tenha defeitos graves.\n",
    "\n",
    "$\\color{red}{\\text{Resolução:}}$"
   ]
  },
  {
   "cell_type": "code",
   "execution_count": 29,
   "metadata": {},
   "outputs": [],
   "source": [
    "q9=function(b,d,g){\n",
    "    # b é o número de peças boas\n",
    "    # d é o número de peças com defeito\n",
    "    # g é o número de peças com defeitos graves    \n",
    "    \n",
    "    #Casos possíveis\n",
    "    cp=b+d+g\n",
    "    \n",
    "    cat(\" a) A probabilidade da peça escolhida não tenha defeito graves é\",1-g/cp)\n",
    "    cat(\"\\n b) A probabilidade da peça não ter defeitos é\",b/cp)\n",
    "    cat(\"\\n c) A probabilidade da peça seja boa OU tenha defeitos graves\",(b+g)/cp)\n",
    "}"
   ]
  },
  {
   "cell_type": "markdown",
   "metadata": {},
   "source": [
    "Fazendo o código compilar precisaremos usar `q9(10,4,2)`, temos:"
   ]
  },
  {
   "cell_type": "code",
   "execution_count": 30,
   "metadata": {},
   "outputs": [
    {
     "name": "stdout",
     "output_type": "stream",
     "text": [
      " a) A probabilidade da peça escolhida não tenha defeito graves é 0.875\n",
      " b) A probabilidade da peça não ter defeitos é 0.625\n",
      " c) A probabilidade da peça seja boa OU tenha defeitos graves 0.75"
     ]
    }
   ],
   "source": [
    "q9(10,4,2)"
   ]
  },
  {
   "cell_type": "markdown",
   "metadata": {},
   "source": [
    "#### Questão 10 - Considere o mesmo lote do problema anterior. Retiram-se 2 peças ao acaso. Qual a probabilidade de que:\n",
    "\n",
    "+ a) Ambas sejam perfeitas;\n",
    "+ b) Pelo menos uma seja perfeita;\n",
    "+ c) Nenhuma tenha defeito grave;\n",
    "+ d) Nenhuma seja perfeita.\n",
    "\n",
    "$\\color{red}{\\text{Resolução:}}$"
   ]
  },
  {
   "cell_type": "code",
   "execution_count": 31,
   "metadata": {},
   "outputs": [],
   "source": [
    "q10=function(p,np,dg){\n",
    "    # p são peças perfeitas\n",
    "    # d são peças defeituosas\n",
    "    \n",
    "    d=np+dg\n",
    "    \n",
    "    #Casos possíveis\n",
    "    cp=d+p\n",
    "    \n",
    "    #Outros casos\n",
    "    o=p+np\n",
    "        \n",
    "    cat(\" a) A probabilidade de ambas as peças sejam defeituosas é\",d/cp*(d-1)/(cp-1))\n",
    "    cat(\"\\n b) A probabilidade de pelo menos uma ser perfeita é\",1-(d/cp*((d-1)/(cp-1))))\n",
    "    cat(\"\\n c) A probabilidade de nenhuma ter defeito grave é\",o/cp*(o-1)/(cp-1))\n",
    "    cat(\"\\n d) A probabilidade de nenhuma peça ser perfeita é\",d/cp*(d-1)/(cp-1))\n",
    "}"
   ]
  },
  {
   "cell_type": "markdown",
   "metadata": {},
   "source": [
    "Para determinarmos a probabilidade desejada deveremos usar `q10(10,4,2)` em que existem 10 peças perfeitas, 4 peças defeituosas e 2 peças com defeitos graves. Desta forma, temos:"
   ]
  },
  {
   "cell_type": "code",
   "execution_count": 32,
   "metadata": {},
   "outputs": [
    {
     "name": "stdout",
     "output_type": "stream",
     "text": [
      " a) A probabilidade de ambas as peças sejam defeituosas é 0.125\n",
      " b) A probabilidade de pelo menos uma ser perfeita é 0.875\n",
      " c) A probabilidade de nenhuma ter defeito grave é 0.7583333\n",
      " d) A probabilidade de nenhuma peça ser perfeita é 0.125"
     ]
    }
   ],
   "source": [
    "q10(10,4,2)"
   ]
  },
  {
   "cell_type": "markdown",
   "metadata": {},
   "source": [
    "#### Questão 11 - Uma urna contém 5 bolas brancas e 6 pretas. Três bolas são retiradas. Calcular a probabilidade de:\n",
    "\n",
    "+ a) todas pretas;\n",
    "+ b) exatamente uma branca;\n",
    "+ c) ao menos uma preta.\n",
    "\n",
    "$\\color{red}{\\text{Resolução:}}$"
   ]
  },
  {
   "cell_type": "markdown",
   "metadata": {},
   "source": [
    "Para responder a pergunta acima, iremos desenvolver um código em R, desta forma temos:"
   ]
  },
  {
   "cell_type": "markdown",
   "metadata": {},
   "source": [
    "Para determinarmos a probabilidade desejada, deveremos usar `q11(5,6)`, em que 5 é o total de brancas e 6 é o total de bolas pretas."
   ]
  },
  {
   "cell_type": "code",
   "execution_count": 33,
   "metadata": {},
   "outputs": [],
   "source": [
    "q11=function(b,p){\n",
    "    #casos favoráveis\n",
    "    cp=b+p\n",
    "    \n",
    "    # Eventos\n",
    "    bb= ((b/cp) * (p/(cp-1)) * (p-1)/(cp-2)) + ((p/cp) * (b/(cp-1)) * (p-1)/(cp-2)) + ( (p/cp) * (p-1)/(cp-1) * (b/(cp-2)))\n",
    "    tb= (b/cp) *  ((b-1)/(cp-1)) * ( (b-2)/ (cp-2) )\n",
    "    \n",
    "    cat(\" a) A probabilidade de encontrar todas as bolas pretas\",(p/cp) * (p-1)/(cp-1) * (p-2)/(cp-2))\n",
    "    cat(\"\\n b) A probabilidade de encontrar exatamente uma bola branca\",bb)\n",
    "    cat(\"\\n c) A probabilidade de encontrar ao menos uma preta é\",1-tb)\n",
    "}"
   ]
  },
  {
   "cell_type": "code",
   "execution_count": 34,
   "metadata": {},
   "outputs": [
    {
     "name": "stdout",
     "output_type": "stream",
     "text": [
      " a) A probabilidade de encontrar todas as bolas pretas 0.1212121\n",
      " b) A probabilidade de encontrar exatamente uma bola branca 0.4545455\n",
      " c) A probabilidade de encontrar ao menos uma preta é 0.9393939"
     ]
    }
   ],
   "source": [
    "q11(5,6)"
   ]
  },
  {
   "cell_type": "markdown",
   "metadata": {},
   "source": [
    "#### Questão 12 - Numa classe existem 5 alunos do quarto ano, 4 do segundo ano e 3 do terceiro ano. Qual a probabilidade de serem sorteados 2 alunos do segundo ano, 3 do quarto ano e 2 do terceiro ano?"
   ]
  },
  {
   "cell_type": "markdown",
   "metadata": {},
   "source": [
    "$\\color{red}{\\text{Resolução:}}$\n",
    "\n",
    "Devemos levar em conta o número de casos favoráveis, representado por $C_{5,3}$ (3 alunos do quarto ano); $C_{4,2}$ (2 alunos do segundo ano) e $C_{3,2}$ (2 alunos do terceiro ano). Os casos possíveis é determinado pela combinação do total de alunos pelo número de alunos selecionados, desta forma temos: $C_{12,7}$. Um código em R é apresentado a seguir:"
   ]
  },
  {
   "cell_type": "code",
   "execution_count": 35,
   "metadata": {},
   "outputs": [],
   "source": [
    "q11=function(s,t,q){\n",
    "    # s é o total de alunos do segundo ano\n",
    "    # t é o total de alunos do terceiro ano\n",
    "    # q é o total de alunos do quarto ano\n",
    "    \n",
    "    #total\n",
    "    a=s+t+q\n",
    "        \n",
    "    # casos possíveis\n",
    "    #factorial(n)/(factorial(n-a)*factorial(a))\n",
    "    cp=choose(12,a)\n",
    "    \n",
    "    # casos favoráveis\n",
    "    #(factorial(4)/(factorial(4-s)*factorial(s))) * (factorial(3)/(factorial(3-t)*factorial(t))) *\n",
    "    #(factorial(5)/(factorial(5-q)*factorial(q)))\n",
    "    cf=choose(4,s)*choose(3,t)*choose(5,q)\n",
    "    \n",
    "    cat(\"A probabilidade é de escolhermos 2 alunos do segundo ano, 2 alunos do terceiro ano e 3 alunos do quarto ano é\",cf/cp)    \n",
    "}"
   ]
  },
  {
   "cell_type": "code",
   "execution_count": 36,
   "metadata": {},
   "outputs": [
    {
     "name": "stdout",
     "output_type": "stream",
     "text": [
      "A probabilidade é de escolhermos 2 alunos do segundo ano, 2 alunos do terceiro ano e 3 alunos do quarto ano é 0.2272727"
     ]
    }
   ],
   "source": [
    "q11(2,2,3)"
   ]
  },
  {
   "cell_type": "markdown",
   "metadata": {},
   "source": [
    "#### Questão 13 - Numa urna existem $N$ bolas assim distribuídas: $N_V$ (quantidade de bolas vermelhas); $N_A$ (quantidades de bolas azuis) e $N_P$ (número de bolas pretas). Qual a probabilidade de retirarmos $n$ bolas; sendo $N_V$ (número de bolas vermelhas); $N_A$ (número de bolas azuis) e $N_P$ (número de bolas pretas).\n",
    "\n",
    "$\\color{red}{\\text{Resolução:}}$"
   ]
  },
  {
   "cell_type": "markdown",
   "metadata": {},
   "source": [
    "Neste caso, temos:\n",
    "\n",
    "\\begin{equation}\n",
    "\\frac{\\binom{N_V}{n_v}\\cdot \\binom{N_A}{n_a} \\cdot \\binom{N_p}{n_p}}{\\binom{N}{n}}\n",
    "\\end{equation}"
   ]
  }
 ],
 "metadata": {
  "kernelspec": {
   "display_name": "R",
   "language": "R",
   "name": "ir"
  },
  "language_info": {
   "codemirror_mode": "r",
   "file_extension": ".r",
   "mimetype": "text/x-r-source",
   "name": "R",
   "pygments_lexer": "r",
   "version": "3.6.1"
  }
 },
 "nbformat": 4,
 "nbformat_minor": 4
}
