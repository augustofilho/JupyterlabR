{
 "cells": [
  {
   "cell_type": "markdown",
   "metadata": {},
   "source": [
    "## Exercícios - Série III - Capítulo 1 - Exercícios extraídos do livro de Gilberto Mendes Martins"
   ]
  },
  {
   "cell_type": "markdown",
   "metadata": {},
   "source": [
    "### $\\color{red}{\\text{Questão 1}}$  - Uma moeda é lançada três vezes. Ache a probabilidade de se obterem:\n",
    "\n",
    "+ a) três caras;\n",
    "+ b) duas caras e uma coroa;\n",
    "+ c) uma cara;\n",
    "+ d) pelo menos uma coroa;\n",
    "+ e) nenhuma cara\n",
    "\n",
    "### $\\color{red}{\\text{Resolução}}$: \n",
    "\n",
    "O espaço amostra $\\omega=\\{(KKK),(KKC),(KCK),(CKK),(CCC),(CCK),(CKC),(KCC)\\}$ associado ao experimento é apresentado. Com esta informação é possível responder as perguntas abaixo.\n",
    "\n",
    "![](fig13.png)\n",
    "\n",
    "A probabilidade de se obter três caras é:\n",
    "\n",
    "\n",
    "$$P(KKK)=\\frac{CF}{CP}=\\frac{1}{2}\\cdot \\frac{1}{2}\\cdot \\frac{1}{2}=\\frac{1}{8}$$\n",
    "\n",
    "A probabilidade de duas caras e uma coroa é dado a seguir:\n",
    "\n",
    "$$$$\n",
    "\n"
   ]
  },
  {
   "cell_type": "code",
   "execution_count": null,
   "metadata": {},
   "outputs": [],
   "source": []
  }
 ],
 "metadata": {
  "kernelspec": {
   "display_name": "R",
   "language": "R",
   "name": "ir"
  },
  "language_info": {
   "codemirror_mode": "r",
   "file_extension": ".r",
   "mimetype": "text/x-r-source",
   "name": "R",
   "pygments_lexer": "r",
   "version": "3.6.1"
  }
 },
 "nbformat": 4,
 "nbformat_minor": 4
}
