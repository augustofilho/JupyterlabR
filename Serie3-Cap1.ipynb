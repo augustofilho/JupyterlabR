{
 "cells": [
  {
   "cell_type": "markdown",
   "metadata": {},
   "source": [
    "## Exercícios - Série III - Capítulo 1 - Exercícios extraídos do livro de Gilberto Mendes Martins"
   ]
  },
  {
   "cell_type": "markdown",
   "metadata": {},
   "source": [
    "### $\\color{red}{\\text{Questão 1}}$  - Uma moeda é lançada três vezes. Ache a probabilidade de se obterem:\n",
    "\n",
    "+ a) três caras;\n",
    "+ b) duas caras e uma coroa;\n",
    "+ c) uma cara;\n",
    "+ d) pelo menos uma coroa;\n",
    "+ e) nenhuma cara\n",
    "\n",
    "### $\\color{red}{\\text{Resolução}}$: \n",
    "\n",
    "O espaço amostra $\\omega=\\{(KKK),(KKC),(KCK),(CKK),(CCC),(CCK),(CKC),(KCC)\\}$ associado ao experimento é apresentado. Com esta informação é possível responder as perguntas abaixo.\n",
    "\n",
    "![](fig13.png)\n",
    "\n",
    "A probabilidade de se obter três caras é:\n",
    "\n",
    "\n",
    "$$P(KKK)=\\frac{CF}{CP}=\\frac{1}{2}\\cdot \\frac{1}{2}\\cdot \\frac{1}{2}=\\frac{1}{8}$$\n",
    "\n",
    "A probabilidade de duas caras e uma coroa é dado a seguir:\n",
    "\n",
    "$$P(KKC \\cup KCK \\cup CKK)=\\frac{1}{2}\\cdot \\frac{1}{2}\\cdot \\frac{1}{2}+\\frac{1}{2}\\cdot \\frac{1}{2}\\cdot \\frac{1}{2}+\\frac{1}{2}\\cdot \\frac{1}{2}\\cdot \\frac{1}{2}=3\\cdot (\\frac{1}{2}\\cdot \\frac{1}{2}\\cdot \\frac{1}{2})=\\frac{3}{8}$$\n",
    "\n",
    "A probabilidade de se obter uma cara: \n",
    "$$P(KCC \\cup CKC \\cup CCK)=3 \\cdot (\\frac{1}{2}\\cdot \\frac{1}{2} \\cdot \\frac{1}{2})=3\\cdot \\frac{1}{8}=\\frac{3}{8}$$\n",
    "\n",
    "A probabilidade de se obter pelo menos uma coroa:\n",
    "$$1-P(KKK)=1-\\frac{1}{8}=\\frac{7}{8}$$\n",
    "\n",
    "A probabilidade de se obter nenhuma cara\n",
    "$$P(CCC)=\\frac{1}{2}\\cdot \\frac{1}{2}\\cdot \\frac{1}{2}=\\frac{1}{8}$$\n",
    "\n",
    "Uma função no R é apresentado a seguir, bastando entrar com o vetor de probabilidades `x=c(0.5,0.5,0.5)`e `q1(x)`."
   ]
  },
  {
   "cell_type": "code",
   "execution_count": 1,
   "metadata": {},
   "outputs": [],
   "source": [
    "q1=function(x){\n",
    "    cat(\" a) A probabilidade de se obter tres caras é\",prod(x))\n",
    "    cat(\"\\n b) A probabilidade de se obter duas caras e uma coroa é\",3*prod(x))\n",
    "    cat(\"\\n c) A probabilidade de se obter uma cara é\",3*prod(x))\n",
    "    cat(\"\\n d) A probabilidade de se obter pelo menos uma coroa é\",1-prod(x))\n",
    "    cat(\"\\n e) A probabilidade de se obter nenhuma cara\",prod(x))    \n",
    "}\n"
   ]
  },
  {
   "cell_type": "code",
   "execution_count": 2,
   "metadata": {},
   "outputs": [
    {
     "name": "stdout",
     "output_type": "stream",
     "text": [
      " a) A probabilidade de se obter tres caras é 0.125\n",
      " b) A probabilidade de se obter duas caras e uma coroa é 0.375\n",
      " c) A probabilidade de se obter uma cara é 0.375\n",
      " d) A probabilidade de se obter pelo menos uma coroa é 0.875\n",
      " e) A probabilidade de se obter nenhuma cara 0.125"
     ]
    }
   ],
   "source": [
    "#Vetor de probabilidades\n",
    "x=c(0.5,0.5,0.5)\n",
    "q1(x)"
   ]
  },
  {
   "cell_type": "markdown",
   "metadata": {},
   "source": [
    "### $\\color{red}{\\text{Questão 2}}$ - São lançados dois dados. Qual a probabilidade de:\n",
    "\n",
    "+ a) obter-se um par de pontos iguais;\n",
    "+ b) um par de pontos diferentes;\n",
    "+ c) um par em que o 1a. < 2a.\n",
    "+ d) a soma dos pontos ser um número par;\n",
    "+ e) obter-se soma 7, se o par de pontos é diferente;\n",
    "+ f) obter-se soma 6, dado que o par de pontos é igual;\n",
    "\n",
    "\n",
    "### $\\color{red}{\\text{Resolução}}$: \n",
    "\n",
    "O espaço amostral $\\omega$ associado ao experimento é apresentado a seguir:\n",
    "\n",
    "| (x,y) | (x,y) | (x,y) | (x,y) | (x,y) | (x,y) |\n",
    "|:-----:|:-----:|:-----:|:-----:|:-----:|:-----:|\n",
    "| (1,1) | (1,2) | (1,3) | (1,4) | (1,5) | (1,6) |\n",
    "| (2,1) | (2,2) | (2,3) | (2,4) | (2,5) | (2,6) |\n",
    "| (3,1) | (3,2) | (3,3) | (3,4) | (3,5) | (3,6) |\n",
    "| (4,1) | (4,2) | (4,3) | (4,4) | (4,5) | (4,6) |\n",
    "| (5,1) | (5,2) | (5,3) | (5,4) | (5,5) | (5,6) |\n",
    "| (6,1) | (6,2) | (6,3) | (6,4) | (6,5) | (6,6) |\n",
    "\n",
    "Desta forma, a probabilidade de se obter um par de pontos iguais é:\n",
    "$$P(X_1=X_2)=\\frac{6}{36}$$\n",
    "\n",
    "A probabilidade de se obter um par de pontos diferentes:\n",
    "$$P(X_1 \\neq X_2)=\\frac{30}{36}$$\n",
    "\n",
    "A probabilidade de se obter um par em que o 1a. < 2a. \n",
    "$$P(X_1 <  X_2)=\\frac{15}{36}$$\n",
    "\n",
    "A probabilidade de que a soma dos pontos ser um número par:\n",
    "$$P(Soma(par))=\\frac{18}{36}$$\n",
    "\n",
    "A probabilidade de se obter soma 7, se o par de pontos é diferente:\n",
    "$$P((X_1+X_2=7))=\\frac{6}{30}$$\n",
    "\n",
    "Neste caso, os pares devem ser diferentes: (1,2),(1,3),(1,4),(1,5),(2,1),(2,3),(2,4),(2,5),(2,6),(3,1),(3,2),(3,4),(3,5),(3,6)...(6,6), ou seja, temos 30 opções.\n",
    "\n",
    "A probabilidade de se obter soma 6, dado que o par de pontos é igual.\n",
    "$$\\frac{1}{6}$$"
   ]
  },
  {
   "cell_type": "markdown",
   "metadata": {},
   "source": [
    "### $\\color{red}{\\text{Questão 3}}$ - A probabilidade de o aluno X resolver esse problema é $\\frac{3}{5}$ e a do aluno Y é $\\frac{4}{7}$. Qual a probabilidade de que o problema seja resolvido?\n",
    "\n",
    "### $\\color{red}{\\text{Resolução}}:$ \n",
    "\n",
    "A seguinte função no R é apresentada para a resolução do exercício acima. "
   ]
  },
  {
   "cell_type": "code",
   "execution_count": 3,
   "metadata": {},
   "outputs": [],
   "source": [
    "#vetor das probabilidades\n",
    "x=c(3/5,4/7)\n",
    "\n",
    "q3=function(x){\n",
    "    cat(\"A probabilidade desejada é\",1-((1-x[1])*(1-x[2])))\n",
    "}"
   ]
  },
  {
   "cell_type": "code",
   "execution_count": 4,
   "metadata": {},
   "outputs": [
    {
     "name": "stdout",
     "output_type": "stream",
     "text": [
      "A probabilidade desejada é 0.8285714"
     ]
    }
   ],
   "source": [
    "q3(x)"
   ]
  },
  {
   "cell_type": "markdown",
   "metadata": {},
   "source": [
    "### $\\color{red}{\\text{Questão 4}}$ - No lançamento de um dado, qual a probabilidade de sair o número 5 ou um número par?\n",
    "\n",
    "### $\\color{red}{\\text{Resolução}}:$  \n",
    "\n",
    "O espaço amostral associado ao experimento é $\\omega=\\{1,2,3,4,5,6\\}$. Desta forma, o evento (A) associado a saída do número 5 tem probabilidade igual a $\\frac{1}{5}$ e a probabilidade associado ao evento (B) correspondente ao número par tem probabilidade igual a $\\frac{3}{6}$, visto que há três possibilidades de saídas de números pares. Portanto, temos:\n",
    "$$P(A \\cup B)= P(A)+P(B)-P(A \\cap B)=\\frac{1}{5}+\\frac{3}{6}-0=\\frac{2}{3}$$. A função apresentada em R que nos retorna o resultado para este exercício necessitará apenas do vetor de probabilidades `x=c(1,6,3/6)`."
   ]
  },
  {
   "cell_type": "code",
   "execution_count": null,
   "metadata": {},
   "outputs": [],
   "source": [
    "x=c(1/6,3/6)\n",
    "q4=function(x){\n",
    "    cat(\"No lançamento de um dado, a probabilidade de sair o número 5 ou um número par é\",x[1]+x[2])\n",
    "}"
   ]
  },
  {
   "cell_type": "code",
   "execution_count": null,
   "metadata": {},
   "outputs": [],
   "source": []
  }
 ],
 "metadata": {
  "kernelspec": {
   "display_name": "R",
   "language": "R",
   "name": "ir"
  },
  "language_info": {
   "codemirror_mode": "r",
   "file_extension": ".r",
   "mimetype": "text/x-r-source",
   "name": "R",
   "pygments_lexer": "r",
   "version": "3.6.1"
  }
 },
 "nbformat": 4,
 "nbformat_minor": 4
}
